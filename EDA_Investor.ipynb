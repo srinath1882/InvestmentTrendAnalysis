{
 "cells": [
  {
   "cell_type": "code",
   "execution_count": 690,
   "metadata": {},
   "outputs": [],
   "source": [
    "# import all the necessary files\n",
    "import numpy as np\n",
    "import pandas as pd\n",
    "import matplotlib.pyplot as plt\n",
    "import seaborn as sns \n",
    "%matplotlib inline "
   ]
  },
  {
   "cell_type": "code",
   "execution_count": 691,
   "metadata": {
    "scrolled": true
   },
   "outputs": [],
   "source": [
    "# Read Companies.txt\n",
    "companies = pd.read_csv('companies.txt', sep=\"\\t\",encoding=\"ISO-8859-1\")"
   ]
  },
  {
   "cell_type": "code",
   "execution_count": 692,
   "metadata": {},
   "outputs": [],
   "source": [
    "# Read rounds2 csv\n",
    "rounds2 = pd.read_csv('rounds2.csv', encoding=\"ISO-8859-1\",index_col=None)"
   ]
  },
  {
   "cell_type": "code",
   "execution_count": 693,
   "metadata": {},
   "outputs": [
    {
     "data": {
      "text/html": [
       "<div>\n",
       "<style scoped>\n",
       "    .dataframe tbody tr th:only-of-type {\n",
       "        vertical-align: middle;\n",
       "    }\n",
       "\n",
       "    .dataframe tbody tr th {\n",
       "        vertical-align: top;\n",
       "    }\n",
       "\n",
       "    .dataframe thead th {\n",
       "        text-align: right;\n",
       "    }\n",
       "</style>\n",
       "<table border=\"1\" class=\"dataframe\">\n",
       "  <thead>\n",
       "    <tr style=\"text-align: right;\">\n",
       "      <th></th>\n",
       "      <th>permalink</th>\n",
       "      <th>name</th>\n",
       "      <th>homepage_url</th>\n",
       "      <th>category_list</th>\n",
       "      <th>status</th>\n",
       "      <th>country_code</th>\n",
       "      <th>state_code</th>\n",
       "      <th>region</th>\n",
       "      <th>city</th>\n",
       "      <th>founded_at</th>\n",
       "    </tr>\n",
       "  </thead>\n",
       "  <tbody>\n",
       "    <tr>\n",
       "      <th>0</th>\n",
       "      <td>/Organization/-Fame</td>\n",
       "      <td>#fame</td>\n",
       "      <td>http://livfame.com</td>\n",
       "      <td>Media</td>\n",
       "      <td>operating</td>\n",
       "      <td>IND</td>\n",
       "      <td>16</td>\n",
       "      <td>Mumbai</td>\n",
       "      <td>Mumbai</td>\n",
       "      <td>NaN</td>\n",
       "    </tr>\n",
       "    <tr>\n",
       "      <th>1</th>\n",
       "      <td>/Organization/-Qounter</td>\n",
       "      <td>:Qounter</td>\n",
       "      <td>http://www.qounter.com</td>\n",
       "      <td>Application Platforms|Real Time|Social Network...</td>\n",
       "      <td>operating</td>\n",
       "      <td>USA</td>\n",
       "      <td>DE</td>\n",
       "      <td>DE - Other</td>\n",
       "      <td>Delaware City</td>\n",
       "      <td>04-09-2014</td>\n",
       "    </tr>\n",
       "    <tr>\n",
       "      <th>2</th>\n",
       "      <td>/Organization/-The-One-Of-Them-Inc-</td>\n",
       "      <td>(THE) ONE of THEM,Inc.</td>\n",
       "      <td>http://oneofthem.jp</td>\n",
       "      <td>Apps|Games|Mobile</td>\n",
       "      <td>operating</td>\n",
       "      <td>NaN</td>\n",
       "      <td>NaN</td>\n",
       "      <td>NaN</td>\n",
       "      <td>NaN</td>\n",
       "      <td>NaN</td>\n",
       "    </tr>\n",
       "    <tr>\n",
       "      <th>3</th>\n",
       "      <td>/Organization/0-6-Com</td>\n",
       "      <td>0-6.com</td>\n",
       "      <td>http://www.0-6.com</td>\n",
       "      <td>Curated Web</td>\n",
       "      <td>operating</td>\n",
       "      <td>CHN</td>\n",
       "      <td>22</td>\n",
       "      <td>Beijing</td>\n",
       "      <td>Beijing</td>\n",
       "      <td>01-01-2007</td>\n",
       "    </tr>\n",
       "    <tr>\n",
       "      <th>4</th>\n",
       "      <td>/Organization/004-Technologies</td>\n",
       "      <td>004 Technologies</td>\n",
       "      <td>http://004gmbh.de/en/004-interact</td>\n",
       "      <td>Software</td>\n",
       "      <td>operating</td>\n",
       "      <td>USA</td>\n",
       "      <td>IL</td>\n",
       "      <td>Springfield, Illinois</td>\n",
       "      <td>Champaign</td>\n",
       "      <td>01-01-2010</td>\n",
       "    </tr>\n",
       "  </tbody>\n",
       "</table>\n",
       "</div>"
      ],
      "text/plain": [
       "                             permalink                    name  \\\n",
       "0                  /Organization/-Fame                   #fame   \n",
       "1               /Organization/-Qounter                :Qounter   \n",
       "2  /Organization/-The-One-Of-Them-Inc-  (THE) ONE of THEM,Inc.   \n",
       "3                /Organization/0-6-Com                 0-6.com   \n",
       "4       /Organization/004-Technologies        004 Technologies   \n",
       "\n",
       "                        homepage_url  \\\n",
       "0                 http://livfame.com   \n",
       "1             http://www.qounter.com   \n",
       "2                http://oneofthem.jp   \n",
       "3                 http://www.0-6.com   \n",
       "4  http://004gmbh.de/en/004-interact   \n",
       "\n",
       "                                       category_list     status country_code  \\\n",
       "0                                              Media  operating          IND   \n",
       "1  Application Platforms|Real Time|Social Network...  operating          USA   \n",
       "2                                  Apps|Games|Mobile  operating          NaN   \n",
       "3                                        Curated Web  operating          CHN   \n",
       "4                                           Software  operating          USA   \n",
       "\n",
       "  state_code                 region           city  founded_at  \n",
       "0         16                 Mumbai         Mumbai         NaN  \n",
       "1         DE             DE - Other  Delaware City  04-09-2014  \n",
       "2        NaN                    NaN            NaN         NaN  \n",
       "3         22                Beijing        Beijing  01-01-2007  \n",
       "4         IL  Springfield, Illinois      Champaign  01-01-2010  "
      ]
     },
     "execution_count": 693,
     "metadata": {},
     "output_type": "execute_result"
    }
   ],
   "source": [
    "companies.head()"
   ]
  },
  {
   "cell_type": "code",
   "execution_count": 694,
   "metadata": {},
   "outputs": [
    {
     "data": {
      "text/html": [
       "<div>\n",
       "<style scoped>\n",
       "    .dataframe tbody tr th:only-of-type {\n",
       "        vertical-align: middle;\n",
       "    }\n",
       "\n",
       "    .dataframe tbody tr th {\n",
       "        vertical-align: top;\n",
       "    }\n",
       "\n",
       "    .dataframe thead th {\n",
       "        text-align: right;\n",
       "    }\n",
       "</style>\n",
       "<table border=\"1\" class=\"dataframe\">\n",
       "  <thead>\n",
       "    <tr style=\"text-align: right;\">\n",
       "      <th></th>\n",
       "      <th>company_permalink</th>\n",
       "      <th>funding_round_permalink</th>\n",
       "      <th>funding_round_type</th>\n",
       "      <th>funding_round_code</th>\n",
       "      <th>funded_at</th>\n",
       "      <th>raised_amount_usd</th>\n",
       "    </tr>\n",
       "  </thead>\n",
       "  <tbody>\n",
       "    <tr>\n",
       "      <th>0</th>\n",
       "      <td>/organization/-fame</td>\n",
       "      <td>/funding-round/9a01d05418af9f794eebff7ace91f638</td>\n",
       "      <td>venture</td>\n",
       "      <td>B</td>\n",
       "      <td>5/1/2015</td>\n",
       "      <td>10000000.0</td>\n",
       "    </tr>\n",
       "    <tr>\n",
       "      <th>1</th>\n",
       "      <td>/ORGANIZATION/-QOUNTER</td>\n",
       "      <td>/funding-round/22dacff496eb7acb2b901dec1dfe5633</td>\n",
       "      <td>venture</td>\n",
       "      <td>A</td>\n",
       "      <td>14-10-2014</td>\n",
       "      <td>NaN</td>\n",
       "    </tr>\n",
       "    <tr>\n",
       "      <th>2</th>\n",
       "      <td>/organization/-qounter</td>\n",
       "      <td>/funding-round/b44fbb94153f6cdef13083530bb48030</td>\n",
       "      <td>seed</td>\n",
       "      <td>NaN</td>\n",
       "      <td>1/3/2014</td>\n",
       "      <td>700000.0</td>\n",
       "    </tr>\n",
       "    <tr>\n",
       "      <th>3</th>\n",
       "      <td>/ORGANIZATION/-THE-ONE-OF-THEM-INC-</td>\n",
       "      <td>/funding-round/650b8f704416801069bb178a1418776b</td>\n",
       "      <td>venture</td>\n",
       "      <td>B</td>\n",
       "      <td>30-01-2014</td>\n",
       "      <td>3406878.0</td>\n",
       "    </tr>\n",
       "    <tr>\n",
       "      <th>4</th>\n",
       "      <td>/organization/0-6-com</td>\n",
       "      <td>/funding-round/5727accaeaa57461bd22a9bdd945382d</td>\n",
       "      <td>venture</td>\n",
       "      <td>A</td>\n",
       "      <td>19-03-2008</td>\n",
       "      <td>2000000.0</td>\n",
       "    </tr>\n",
       "  </tbody>\n",
       "</table>\n",
       "</div>"
      ],
      "text/plain": [
       "                     company_permalink  \\\n",
       "0                  /organization/-fame   \n",
       "1               /ORGANIZATION/-QOUNTER   \n",
       "2               /organization/-qounter   \n",
       "3  /ORGANIZATION/-THE-ONE-OF-THEM-INC-   \n",
       "4                /organization/0-6-com   \n",
       "\n",
       "                           funding_round_permalink funding_round_type  \\\n",
       "0  /funding-round/9a01d05418af9f794eebff7ace91f638            venture   \n",
       "1  /funding-round/22dacff496eb7acb2b901dec1dfe5633            venture   \n",
       "2  /funding-round/b44fbb94153f6cdef13083530bb48030               seed   \n",
       "3  /funding-round/650b8f704416801069bb178a1418776b            venture   \n",
       "4  /funding-round/5727accaeaa57461bd22a9bdd945382d            venture   \n",
       "\n",
       "  funding_round_code   funded_at  raised_amount_usd  \n",
       "0                  B    5/1/2015         10000000.0  \n",
       "1                  A  14-10-2014                NaN  \n",
       "2                NaN    1/3/2014           700000.0  \n",
       "3                  B  30-01-2014          3406878.0  \n",
       "4                  A  19-03-2008          2000000.0  "
      ]
     },
     "execution_count": 694,
     "metadata": {},
     "output_type": "execute_result"
    }
   ],
   "source": [
    "rounds2.head()"
   ]
  },
  {
   "cell_type": "markdown",
   "metadata": {},
   "source": [
    "___Convert all companies permalink column to lower case & clear Junk Values___"
   ]
  },
  {
   "cell_type": "code",
   "execution_count": 695,
   "metadata": {},
   "outputs": [],
   "source": [
    "companies.permalink = companies.permalink.str.lower()\n",
    "companies.permalink = companies.permalink.str.encode('ISO-8859-1','ignore').str.decode('ascii','ignore')"
   ]
  },
  {
   "cell_type": "markdown",
   "metadata": {},
   "source": [
    "___Check companies DF shape___"
   ]
  },
  {
   "cell_type": "code",
   "execution_count": 696,
   "metadata": {},
   "outputs": [
    {
     "data": {
      "text/plain": [
       "(66368, 10)"
      ]
     },
     "execution_count": 696,
     "metadata": {},
     "output_type": "execute_result"
    }
   ],
   "source": [
    "companies.shape"
   ]
  },
  {
   "cell_type": "markdown",
   "metadata": {},
   "source": [
    "___Number of unique companies present in companies DF___"
   ]
  },
  {
   "cell_type": "code",
   "execution_count": 697,
   "metadata": {},
   "outputs": [
    {
     "data": {
      "text/plain": [
       "66368"
      ]
     },
     "execution_count": 697,
     "metadata": {},
     "output_type": "execute_result"
    }
   ],
   "source": [
    "# Q1. How many unique companies are present in companies?\n",
    "len(companies.permalink.unique())"
   ]
  },
  {
   "cell_type": "markdown",
   "metadata": {},
   "source": [
    "___Convert all rounds2 company permalink column to lower case & clear Junk Values___"
   ]
  },
  {
   "cell_type": "code",
   "execution_count": 698,
   "metadata": {},
   "outputs": [],
   "source": [
    "rounds2.company_permalink = rounds2.company_permalink.str.lower()\n",
    "rounds2.company_permalink = rounds2.company_permalink.str.encode('ISO-8859-1','ignore').str.decode('ascii','ignore')"
   ]
  },
  {
   "cell_type": "markdown",
   "metadata": {},
   "source": [
    "___Check rounds2 DF shape___"
   ]
  },
  {
   "cell_type": "code",
   "execution_count": 699,
   "metadata": {},
   "outputs": [
    {
     "data": {
      "text/plain": [
       "(114949, 6)"
      ]
     },
     "execution_count": 699,
     "metadata": {},
     "output_type": "execute_result"
    }
   ],
   "source": [
    "rounds2.shape"
   ]
  },
  {
   "cell_type": "markdown",
   "metadata": {},
   "source": [
    "___Number of unique companies present in rounds2 DF___"
   ]
  },
  {
   "cell_type": "code",
   "execution_count": 700,
   "metadata": {},
   "outputs": [
    {
     "data": {
      "text/plain": [
       "66368"
      ]
     },
     "execution_count": 700,
     "metadata": {},
     "output_type": "execute_result"
    }
   ],
   "source": [
    "# Q2. How many unique companies are present in rounds2?\n",
    "len(rounds2.company_permalink.unique())"
   ]
  },
  {
   "cell_type": "markdown",
   "metadata": {},
   "source": [
    "___In the companies data frame, permalink column can be used as the unique key for each company___"
   ]
  },
  {
   "cell_type": "markdown",
   "metadata": {
    "slideshow": {
     "slide_type": "subslide"
    }
   },
   "source": [
    "___One observation from the number of unique companies list in rounds2 and companies DF is that, after clearing junks, both rounds2 DF and company DF has equal number of unique companies.___"
   ]
  },
  {
   "cell_type": "markdown",
   "metadata": {},
   "source": [
    "__Rename permalink column in companies DF to company_permalink. So that merging on company_permalink column would be easy between rounds2 and companies df__"
   ]
  },
  {
   "cell_type": "code",
   "execution_count": 701,
   "metadata": {},
   "outputs": [],
   "source": [
    "companies.rename(columns = {'permalink':'company_permalink'},inplace=True)"
   ]
  },
  {
   "cell_type": "code",
   "execution_count": 702,
   "metadata": {},
   "outputs": [],
   "source": [
    "# Merge both data frames\n",
    "master_frame = rounds2.merge(companies,on = 'company_permalink')"
   ]
  },
  {
   "cell_type": "code",
   "execution_count": 703,
   "metadata": {},
   "outputs": [
    {
     "data": {
      "text/html": [
       "<div>\n",
       "<style scoped>\n",
       "    .dataframe tbody tr th:only-of-type {\n",
       "        vertical-align: middle;\n",
       "    }\n",
       "\n",
       "    .dataframe tbody tr th {\n",
       "        vertical-align: top;\n",
       "    }\n",
       "\n",
       "    .dataframe thead th {\n",
       "        text-align: right;\n",
       "    }\n",
       "</style>\n",
       "<table border=\"1\" class=\"dataframe\">\n",
       "  <thead>\n",
       "    <tr style=\"text-align: right;\">\n",
       "      <th></th>\n",
       "      <th>company_permalink</th>\n",
       "      <th>funding_round_permalink</th>\n",
       "      <th>funding_round_type</th>\n",
       "      <th>funding_round_code</th>\n",
       "      <th>funded_at</th>\n",
       "      <th>raised_amount_usd</th>\n",
       "      <th>name</th>\n",
       "      <th>homepage_url</th>\n",
       "      <th>category_list</th>\n",
       "      <th>status</th>\n",
       "      <th>country_code</th>\n",
       "      <th>state_code</th>\n",
       "      <th>region</th>\n",
       "      <th>city</th>\n",
       "      <th>founded_at</th>\n",
       "    </tr>\n",
       "  </thead>\n",
       "  <tbody>\n",
       "    <tr>\n",
       "      <th>0</th>\n",
       "      <td>/organization/-fame</td>\n",
       "      <td>/funding-round/9a01d05418af9f794eebff7ace91f638</td>\n",
       "      <td>venture</td>\n",
       "      <td>B</td>\n",
       "      <td>5/1/2015</td>\n",
       "      <td>10000000.0</td>\n",
       "      <td>#fame</td>\n",
       "      <td>http://livfame.com</td>\n",
       "      <td>Media</td>\n",
       "      <td>operating</td>\n",
       "      <td>IND</td>\n",
       "      <td>16</td>\n",
       "      <td>Mumbai</td>\n",
       "      <td>Mumbai</td>\n",
       "      <td>NaN</td>\n",
       "    </tr>\n",
       "    <tr>\n",
       "      <th>1</th>\n",
       "      <td>/organization/-qounter</td>\n",
       "      <td>/funding-round/22dacff496eb7acb2b901dec1dfe5633</td>\n",
       "      <td>venture</td>\n",
       "      <td>A</td>\n",
       "      <td>14-10-2014</td>\n",
       "      <td>NaN</td>\n",
       "      <td>:Qounter</td>\n",
       "      <td>http://www.qounter.com</td>\n",
       "      <td>Application Platforms|Real Time|Social Network...</td>\n",
       "      <td>operating</td>\n",
       "      <td>USA</td>\n",
       "      <td>DE</td>\n",
       "      <td>DE - Other</td>\n",
       "      <td>Delaware City</td>\n",
       "      <td>04-09-2014</td>\n",
       "    </tr>\n",
       "    <tr>\n",
       "      <th>2</th>\n",
       "      <td>/organization/-qounter</td>\n",
       "      <td>/funding-round/b44fbb94153f6cdef13083530bb48030</td>\n",
       "      <td>seed</td>\n",
       "      <td>NaN</td>\n",
       "      <td>1/3/2014</td>\n",
       "      <td>700000.0</td>\n",
       "      <td>:Qounter</td>\n",
       "      <td>http://www.qounter.com</td>\n",
       "      <td>Application Platforms|Real Time|Social Network...</td>\n",
       "      <td>operating</td>\n",
       "      <td>USA</td>\n",
       "      <td>DE</td>\n",
       "      <td>DE - Other</td>\n",
       "      <td>Delaware City</td>\n",
       "      <td>04-09-2014</td>\n",
       "    </tr>\n",
       "    <tr>\n",
       "      <th>3</th>\n",
       "      <td>/organization/-the-one-of-them-inc-</td>\n",
       "      <td>/funding-round/650b8f704416801069bb178a1418776b</td>\n",
       "      <td>venture</td>\n",
       "      <td>B</td>\n",
       "      <td>30-01-2014</td>\n",
       "      <td>3406878.0</td>\n",
       "      <td>(THE) ONE of THEM,Inc.</td>\n",
       "      <td>http://oneofthem.jp</td>\n",
       "      <td>Apps|Games|Mobile</td>\n",
       "      <td>operating</td>\n",
       "      <td>NaN</td>\n",
       "      <td>NaN</td>\n",
       "      <td>NaN</td>\n",
       "      <td>NaN</td>\n",
       "      <td>NaN</td>\n",
       "    </tr>\n",
       "    <tr>\n",
       "      <th>4</th>\n",
       "      <td>/organization/0-6-com</td>\n",
       "      <td>/funding-round/5727accaeaa57461bd22a9bdd945382d</td>\n",
       "      <td>venture</td>\n",
       "      <td>A</td>\n",
       "      <td>19-03-2008</td>\n",
       "      <td>2000000.0</td>\n",
       "      <td>0-6.com</td>\n",
       "      <td>http://www.0-6.com</td>\n",
       "      <td>Curated Web</td>\n",
       "      <td>operating</td>\n",
       "      <td>CHN</td>\n",
       "      <td>22</td>\n",
       "      <td>Beijing</td>\n",
       "      <td>Beijing</td>\n",
       "      <td>01-01-2007</td>\n",
       "    </tr>\n",
       "  </tbody>\n",
       "</table>\n",
       "</div>"
      ],
      "text/plain": [
       "                     company_permalink  \\\n",
       "0                  /organization/-fame   \n",
       "1               /organization/-qounter   \n",
       "2               /organization/-qounter   \n",
       "3  /organization/-the-one-of-them-inc-   \n",
       "4                /organization/0-6-com   \n",
       "\n",
       "                           funding_round_permalink funding_round_type  \\\n",
       "0  /funding-round/9a01d05418af9f794eebff7ace91f638            venture   \n",
       "1  /funding-round/22dacff496eb7acb2b901dec1dfe5633            venture   \n",
       "2  /funding-round/b44fbb94153f6cdef13083530bb48030               seed   \n",
       "3  /funding-round/650b8f704416801069bb178a1418776b            venture   \n",
       "4  /funding-round/5727accaeaa57461bd22a9bdd945382d            venture   \n",
       "\n",
       "  funding_round_code   funded_at  raised_amount_usd                    name  \\\n",
       "0                  B    5/1/2015         10000000.0                   #fame   \n",
       "1                  A  14-10-2014                NaN                :Qounter   \n",
       "2                NaN    1/3/2014           700000.0                :Qounter   \n",
       "3                  B  30-01-2014          3406878.0  (THE) ONE of THEM,Inc.   \n",
       "4                  A  19-03-2008          2000000.0                 0-6.com   \n",
       "\n",
       "             homepage_url                                      category_list  \\\n",
       "0      http://livfame.com                                              Media   \n",
       "1  http://www.qounter.com  Application Platforms|Real Time|Social Network...   \n",
       "2  http://www.qounter.com  Application Platforms|Real Time|Social Network...   \n",
       "3     http://oneofthem.jp                                  Apps|Games|Mobile   \n",
       "4      http://www.0-6.com                                        Curated Web   \n",
       "\n",
       "      status country_code state_code      region           city  founded_at  \n",
       "0  operating          IND         16      Mumbai         Mumbai         NaN  \n",
       "1  operating          USA         DE  DE - Other  Delaware City  04-09-2014  \n",
       "2  operating          USA         DE  DE - Other  Delaware City  04-09-2014  \n",
       "3  operating          NaN        NaN         NaN            NaN         NaN  \n",
       "4  operating          CHN         22     Beijing        Beijing  01-01-2007  "
      ]
     },
     "execution_count": 703,
     "metadata": {},
     "output_type": "execute_result"
    }
   ],
   "source": [
    "master_frame.head()"
   ]
  },
  {
   "cell_type": "code",
   "execution_count": 704,
   "metadata": {},
   "outputs": [
    {
     "data": {
      "text/plain": [
       "(114949, 15)"
      ]
     },
     "execution_count": 704,
     "metadata": {},
     "output_type": "execute_result"
    }
   ],
   "source": [
    "master_frame.shape"
   ]
  },
  {
   "cell_type": "markdown",
   "metadata": {},
   "source": [
    "#  Funding Type Analysis"
   ]
  },
  {
   "cell_type": "markdown",
   "metadata": {},
   "source": [
    "# Data Cleaning on master_frame"
   ]
  },
  {
   "cell_type": "code",
   "execution_count": 706,
   "metadata": {},
   "outputs": [
    {
     "data": {
      "text/plain": [
       "company_permalink              0\n",
       "funding_round_permalink        0\n",
       "funding_round_type             0\n",
       "funding_round_code         83809\n",
       "funded_at                      0\n",
       "raised_amount_usd          19990\n",
       "name                           1\n",
       "homepage_url                6134\n",
       "category_list               3410\n",
       "status                         0\n",
       "country_code                8678\n",
       "state_code                 10946\n",
       "region                     10167\n",
       "city                       10164\n",
       "founded_at                 20521\n",
       "dtype: int64"
      ]
     },
     "execution_count": 706,
     "metadata": {},
     "output_type": "execute_result"
    }
   ],
   "source": [
    "master_frame.isnull().sum()"
   ]
  },
  {
   "cell_type": "code",
   "execution_count": 707,
   "metadata": {},
   "outputs": [
    {
     "name": "stdout",
     "output_type": "stream",
     "text": [
      "<class 'pandas.core.frame.DataFrame'>\n",
      "Int64Index: 114949 entries, 0 to 114948\n",
      "Data columns (total 15 columns):\n",
      "company_permalink          114949 non-null object\n",
      "funding_round_permalink    114949 non-null object\n",
      "funding_round_type         114949 non-null object\n",
      "funding_round_code         31140 non-null object\n",
      "funded_at                  114949 non-null object\n",
      "raised_amount_usd          94959 non-null float64\n",
      "name                       114948 non-null object\n",
      "homepage_url               108815 non-null object\n",
      "category_list              111539 non-null object\n",
      "status                     114949 non-null object\n",
      "country_code               106271 non-null object\n",
      "state_code                 104003 non-null object\n",
      "region                     104782 non-null object\n",
      "city                       104785 non-null object\n",
      "founded_at                 94428 non-null object\n",
      "dtypes: float64(1), object(14)\n",
      "memory usage: 14.0+ MB\n"
     ]
    }
   ],
   "source": [
    "master_frame.info()"
   ]
  },
  {
   "cell_type": "markdown",
   "metadata": {},
   "source": [
    "__Dropping NaN columns which are of not interest. funding_round_code, founded_at, city, region, state_code, homepage_url__"
   ]
  },
  {
   "cell_type": "code",
   "execution_count": 708,
   "metadata": {},
   "outputs": [],
   "source": [
    "master_frame.drop(labels = 'funding_round_code', axis =1,inplace= True)\n",
    "master_frame.drop(labels = 'founded_at', axis =1,inplace= True)\n",
    "master_frame.drop(labels = 'city', axis =1,inplace= True)\n",
    "master_frame.drop(labels = 'region', axis =1,inplace= True)\n",
    "master_frame.drop(labels = 'state_code', axis =1,inplace= True)\n",
    "master_frame.drop(labels = 'homepage_url', axis =1,inplace= True)"
   ]
  },
  {
   "cell_type": "code",
   "execution_count": 709,
   "metadata": {},
   "outputs": [
    {
     "data": {
      "text/plain": [
       "company_permalink              0\n",
       "funding_round_permalink        0\n",
       "funding_round_type             0\n",
       "funded_at                      0\n",
       "raised_amount_usd          19990\n",
       "name                           1\n",
       "category_list               3410\n",
       "status                         0\n",
       "country_code                8678\n",
       "dtype: int64"
      ]
     },
     "execution_count": 709,
     "metadata": {},
     "output_type": "execute_result"
    }
   ],
   "source": [
    "master_frame.isnull().sum()"
   ]
  },
  {
   "cell_type": "markdown",
   "metadata": {},
   "source": [
    "__Removing all rows having raised_amount_usd as NULL values.__"
   ]
  },
  {
   "cell_type": "code",
   "execution_count": 710,
   "metadata": {},
   "outputs": [],
   "source": [
    "master_frame = master_frame[~master_frame.raised_amount_usd.isnull()]"
   ]
  },
  {
   "cell_type": "code",
   "execution_count": 711,
   "metadata": {},
   "outputs": [
    {
     "data": {
      "text/plain": [
       "company_permalink             0\n",
       "funding_round_permalink       0\n",
       "funding_round_type            0\n",
       "funded_at                     0\n",
       "raised_amount_usd             0\n",
       "name                          1\n",
       "category_list              1044\n",
       "status                        0\n",
       "country_code               5851\n",
       "dtype: int64"
      ]
     },
     "execution_count": 711,
     "metadata": {},
     "output_type": "execute_result"
    }
   ],
   "source": [
    "master_frame.isnull().sum()"
   ]
  },
  {
   "cell_type": "markdown",
   "metadata": {},
   "source": [
    "__Removing all rows having category as NULL values.__"
   ]
  },
  {
   "cell_type": "code",
   "execution_count": 712,
   "metadata": {},
   "outputs": [],
   "source": [
    "master_frame = master_frame[~master_frame.category_list.isnull()]"
   ]
  },
  {
   "cell_type": "code",
   "execution_count": 713,
   "metadata": {},
   "outputs": [
    {
     "data": {
      "text/plain": [
       "company_permalink             0\n",
       "funding_round_permalink       0\n",
       "funding_round_type            0\n",
       "funded_at                     0\n",
       "raised_amount_usd             0\n",
       "name                          1\n",
       "category_list                 0\n",
       "status                        0\n",
       "country_code               5386\n",
       "dtype: int64"
      ]
     },
     "execution_count": 713,
     "metadata": {},
     "output_type": "execute_result"
    }
   ],
   "source": [
    "master_frame.isnull().sum()"
   ]
  },
  {
   "cell_type": "markdown",
   "metadata": {},
   "source": [
    "__Removing all rows having country_code as NULL values.__"
   ]
  },
  {
   "cell_type": "code",
   "execution_count": 714,
   "metadata": {},
   "outputs": [],
   "source": [
    "master_frame = master_frame[~master_frame.country_code.isnull()]"
   ]
  },
  {
   "cell_type": "code",
   "execution_count": 715,
   "metadata": {},
   "outputs": [
    {
     "data": {
      "text/plain": [
       "company_permalink          0\n",
       "funding_round_permalink    0\n",
       "funding_round_type         0\n",
       "funded_at                  0\n",
       "raised_amount_usd          0\n",
       "name                       1\n",
       "category_list              0\n",
       "status                     0\n",
       "country_code               0\n",
       "dtype: int64"
      ]
     },
     "execution_count": 715,
     "metadata": {},
     "output_type": "execute_result"
    }
   ],
   "source": [
    "master_frame.isnull().sum()"
   ]
  },
  {
   "cell_type": "markdown",
   "metadata": {},
   "source": [
    "___After data cleaning up, new master DF___"
   ]
  },
  {
   "cell_type": "code",
   "execution_count": 716,
   "metadata": {},
   "outputs": [
    {
     "data": {
      "text/plain": [
       "(88529, 9)"
      ]
     },
     "execution_count": 716,
     "metadata": {},
     "output_type": "execute_result"
    }
   ],
   "source": [
    "# Take a copy for later plotting\n",
    "master_frameCopy = master_frame\n",
    "master_frame.shape"
   ]
  },
  {
   "cell_type": "markdown",
   "metadata": {},
   "source": [
    "__As XYZ is only interested in venture, seed, angel, private_equity Investing type,\n",
    "select only venture, seed, angel, private_equity Investing type in the master_frame.__"
   ]
  },
  {
   "cell_type": "code",
   "execution_count": 718,
   "metadata": {},
   "outputs": [],
   "source": [
    "master_frame = master_frame.loc[master_frame.funding_round_type.isin(['venture','seed','angel','private_equity'])]"
   ]
  },
  {
   "cell_type": "code",
   "execution_count": 719,
   "metadata": {},
   "outputs": [
    {
     "data": {
      "text/plain": [
       "venture           47809\n",
       "seed              21095\n",
       "angel              4400\n",
       "private_equity     1820\n",
       "Name: funding_round_type, dtype: int64"
      ]
     },
     "execution_count": 719,
     "metadata": {},
     "output_type": "execute_result"
    }
   ],
   "source": [
    "master_frame.funding_round_type.value_counts()"
   ]
  },
  {
   "cell_type": "markdown",
   "metadata": {},
   "source": [
    "___Convert Funding amount in to Million USD for easier analysis___"
   ]
  },
  {
   "cell_type": "code",
   "execution_count": 720,
   "metadata": {},
   "outputs": [],
   "source": [
    "master_frame.raised_amount_usd = master_frame.raised_amount_usd/1000000"
   ]
  },
  {
   "cell_type": "code",
   "execution_count": 721,
   "metadata": {},
   "outputs": [
    {
     "data": {
      "text/html": [
       "<div>\n",
       "<style scoped>\n",
       "    .dataframe tbody tr th:only-of-type {\n",
       "        vertical-align: middle;\n",
       "    }\n",
       "\n",
       "    .dataframe tbody tr th {\n",
       "        vertical-align: top;\n",
       "    }\n",
       "\n",
       "    .dataframe thead tr th {\n",
       "        text-align: left;\n",
       "    }\n",
       "\n",
       "    .dataframe thead tr:last-of-type th {\n",
       "        text-align: right;\n",
       "    }\n",
       "</style>\n",
       "<table border=\"1\" class=\"dataframe\">\n",
       "  <thead>\n",
       "    <tr>\n",
       "      <th></th>\n",
       "      <th colspan=\"8\" halign=\"left\">raised_amount_usd</th>\n",
       "    </tr>\n",
       "    <tr>\n",
       "      <th></th>\n",
       "      <th>count</th>\n",
       "      <th>mean</th>\n",
       "      <th>std</th>\n",
       "      <th>min</th>\n",
       "      <th>25%</th>\n",
       "      <th>50%</th>\n",
       "      <th>75%</th>\n",
       "      <th>max</th>\n",
       "    </tr>\n",
       "    <tr>\n",
       "      <th>funding_round_type</th>\n",
       "      <th></th>\n",
       "      <th></th>\n",
       "      <th></th>\n",
       "      <th></th>\n",
       "      <th></th>\n",
       "      <th></th>\n",
       "      <th></th>\n",
       "      <th></th>\n",
       "    </tr>\n",
       "  </thead>\n",
       "  <tbody>\n",
       "    <tr>\n",
       "      <th>angel</th>\n",
       "      <td>4400.0</td>\n",
       "      <td>0.971574</td>\n",
       "      <td>7.710904</td>\n",
       "      <td>0.0</td>\n",
       "      <td>0.152756</td>\n",
       "      <td>0.414906</td>\n",
       "      <td>1.000000</td>\n",
       "      <td>494.511992</td>\n",
       "    </tr>\n",
       "    <tr>\n",
       "      <th>private_equity</th>\n",
       "      <td>1820.0</td>\n",
       "      <td>73.938486</td>\n",
       "      <td>201.776467</td>\n",
       "      <td>0.0</td>\n",
       "      <td>5.000000</td>\n",
       "      <td>20.000000</td>\n",
       "      <td>75.762572</td>\n",
       "      <td>4745.460219</td>\n",
       "    </tr>\n",
       "    <tr>\n",
       "      <th>seed</th>\n",
       "      <td>21095.0</td>\n",
       "      <td>0.747794</td>\n",
       "      <td>2.288318</td>\n",
       "      <td>0.0</td>\n",
       "      <td>0.068817</td>\n",
       "      <td>0.300000</td>\n",
       "      <td>1.000000</td>\n",
       "      <td>200.000000</td>\n",
       "    </tr>\n",
       "    <tr>\n",
       "      <th>venture</th>\n",
       "      <td>47809.0</td>\n",
       "      <td>11.724223</td>\n",
       "      <td>88.215714</td>\n",
       "      <td>0.0</td>\n",
       "      <td>1.600000</td>\n",
       "      <td>5.000000</td>\n",
       "      <td>12.000000</td>\n",
       "      <td>17600.000000</td>\n",
       "    </tr>\n",
       "  </tbody>\n",
       "</table>\n",
       "</div>"
      ],
      "text/plain": [
       "                   raised_amount_usd                                        \\\n",
       "                               count       mean         std  min       25%   \n",
       "funding_round_type                                                           \n",
       "angel                         4400.0   0.971574    7.710904  0.0  0.152756   \n",
       "private_equity                1820.0  73.938486  201.776467  0.0  5.000000   \n",
       "seed                         21095.0   0.747794    2.288318  0.0  0.068817   \n",
       "venture                      47809.0  11.724223   88.215714  0.0  1.600000   \n",
       "\n",
       "                                                        \n",
       "                          50%        75%           max  \n",
       "funding_round_type                                      \n",
       "angel                0.414906   1.000000    494.511992  \n",
       "private_equity      20.000000  75.762572   4745.460219  \n",
       "seed                 0.300000   1.000000    200.000000  \n",
       "venture              5.000000  12.000000  17600.000000  "
      ]
     },
     "execution_count": 721,
     "metadata": {},
     "output_type": "execute_result"
    }
   ],
   "source": [
    "# Q1. Average funding amount of venture type\n",
    "# Q2. Average funding amount of angel type\n",
    "# Q3. Average funding amount of seed type\n",
    "# Q4. Average funding amount of private equity type\n",
    "master_frame.groupby('funding_round_type').describe()"
   ]
  },
  {
   "cell_type": "markdown",
   "metadata": {},
   "source": [
    "___The most representative value of the investment amount for each of the four funding types___\n",
    "\n",
    "___venture             : 11.72 Million USD___\n",
    "\n",
    "___Angel               : 0.97 Million USD___\n",
    " \n",
    "___Seed                : 0.74 Million USD___\n",
    "\n",
    "___Private equity : 73.93 Million USD___"
   ]
  },
  {
   "cell_type": "markdown",
   "metadata": {},
   "source": [
    "___Based on XYZ's investment amount criteria, Venture is the most suitable investment type as its most representative value of investment amount falls in the range of 5 to 15 Million USD___"
   ]
  },
  {
   "cell_type": "markdown",
   "metadata": {},
   "source": [
    "___Hence extracting only Venture Type Companies___"
   ]
  },
  {
   "cell_type": "code",
   "execution_count": 722,
   "metadata": {},
   "outputs": [],
   "source": [
    "master_frame = master_frame[master_frame.funding_round_type == 'venture']"
   ]
  },
  {
   "cell_type": "markdown",
   "metadata": {},
   "source": [
    "# Country analysis"
   ]
  },
  {
   "cell_type": "code",
   "execution_count": 723,
   "metadata": {},
   "outputs": [],
   "source": [
    "# Let's create a DataFrame that contains all the country code of English Speaking Countries\n",
    "country_code = {\n",
    "    'country_name': ['Botswana', 'Cameroon', 'Ethiopia', 'Eritrea', 'Gambia', 'Ghana', 'Kenya', 'Lesotho', 'Liberia', 'Malawi', 'Mauritius', 'Namibia', 'Nigeria', 'Rwanda', 'Seychelles', 'Sierra Leone', 'South Africa', 'South Sudan', 'Sudan', 'Swaziland', 'Tanzania', 'Uganda', 'Zambia','Zimbabwe', 'Antigua and Barbuda', 'Bahamas', 'Barbados', 'Belize', 'Canada', 'Dominica', 'Grenada', 'Guyana', 'Jamaica', 'Saint Kitts and Nevis', 'Saint Lucia', 'Saint Vincent and the Grenadines', 'Trinidad and Tobago', 'United States', 'India', 'Pakistan', 'Philippines', 'Singapore', 'Australia', 'Fiji', 'Kiribati', 'Marshall Islands', 'Federated States of Micronesia', 'Nauru', 'New Zealand', 'Palau', 'Papua New Guinea', 'Samoa', 'Solomon Islands', 'Tonga', 'Tuvalu', 'Vanuatu', 'Ireland', 'Malta', 'United Kingdom'],\n",
    "    'code': ['BWA', 'CMR', 'ETH', 'ERI', 'GMB', 'GHA', 'KEN', 'LSO', 'LBR', 'MWI', 'MUS', 'NAM', 'NGA', 'RWA', 'SYC', 'SLE', 'ZAF', 'SSD', 'SDN', 'SWZ', 'TZA', 'UGA', 'ZMB', 'ZWE', 'ATG', 'BHS', 'BRB', 'BLZ', 'CAN', 'DMA', 'GRD', 'GUY', 'JAM', 'KNA', 'LCA', 'VCT', 'TTO', 'USA', 'IND', 'PAK', 'PHL', 'SGP', 'AUS', 'FJI', 'KIR', 'MHL', 'FSM', 'NRU', 'NZL', 'PLW', 'PNG', 'WSM', 'SLB', 'TON', 'TUV', 'VUT', 'IRL', 'MLT', 'GBR']\n",
    "}\n",
    "country_code_df = pd.DataFrame.from_dict(country_code)"
   ]
  },
  {
   "cell_type": "code",
   "execution_count": 724,
   "metadata": {},
   "outputs": [
    {
     "data": {
      "text/html": [
       "<div>\n",
       "<style scoped>\n",
       "    .dataframe tbody tr th:only-of-type {\n",
       "        vertical-align: middle;\n",
       "    }\n",
       "\n",
       "    .dataframe tbody tr th {\n",
       "        vertical-align: top;\n",
       "    }\n",
       "\n",
       "    .dataframe thead th {\n",
       "        text-align: right;\n",
       "    }\n",
       "</style>\n",
       "<table border=\"1\" class=\"dataframe\">\n",
       "  <thead>\n",
       "    <tr style=\"text-align: right;\">\n",
       "      <th></th>\n",
       "      <th>country_name</th>\n",
       "      <th>code</th>\n",
       "    </tr>\n",
       "  </thead>\n",
       "  <tbody>\n",
       "    <tr>\n",
       "      <th>0</th>\n",
       "      <td>Botswana</td>\n",
       "      <td>BWA</td>\n",
       "    </tr>\n",
       "    <tr>\n",
       "      <th>1</th>\n",
       "      <td>Cameroon</td>\n",
       "      <td>CMR</td>\n",
       "    </tr>\n",
       "    <tr>\n",
       "      <th>2</th>\n",
       "      <td>Ethiopia</td>\n",
       "      <td>ETH</td>\n",
       "    </tr>\n",
       "    <tr>\n",
       "      <th>3</th>\n",
       "      <td>Eritrea</td>\n",
       "      <td>ERI</td>\n",
       "    </tr>\n",
       "    <tr>\n",
       "      <th>4</th>\n",
       "      <td>Gambia</td>\n",
       "      <td>GMB</td>\n",
       "    </tr>\n",
       "  </tbody>\n",
       "</table>\n",
       "</div>"
      ],
      "text/plain": [
       "  country_name code\n",
       "0     Botswana  BWA\n",
       "1     Cameroon  CMR\n",
       "2     Ethiopia  ETH\n",
       "3      Eritrea  ERI\n",
       "4       Gambia  GMB"
      ]
     },
     "execution_count": 724,
     "metadata": {},
     "output_type": "execute_result"
    }
   ],
   "source": [
    "country_code_df.head()"
   ]
  },
  {
   "cell_type": "markdown",
   "metadata": {},
   "source": [
    "___Lets find how many unique countries are there for Venture type investment___"
   ]
  },
  {
   "cell_type": "code",
   "execution_count": 725,
   "metadata": {},
   "outputs": [
    {
     "data": {
      "text/plain": [
       "97"
      ]
     },
     "execution_count": 725,
     "metadata": {},
     "output_type": "execute_result"
    }
   ],
   "source": [
    "len(master_frame.country_code.unique())"
   ]
  },
  {
   "cell_type": "markdown",
   "metadata": {},
   "source": [
    "___Since XYZ only wants to invest in countries that have their official language as 'English'___<br>\n",
    "__Let's filter out the rows in master_frame based on that contraint__\n"
   ]
  },
  {
   "cell_type": "code",
   "execution_count": 726,
   "metadata": {},
   "outputs": [],
   "source": [
    "# Remove all the non-English speaking countries\n",
    "master_frame = master_frame[master_frame.country_code.isin(country_code_df.code)]"
   ]
  },
  {
   "cell_type": "markdown",
   "metadata": {},
   "source": [
    "___Plotting total investment amount of Venture Type for all the English speaking countries___"
   ]
  },
  {
   "cell_type": "code",
   "execution_count": 727,
   "metadata": {},
   "outputs": [
    {
     "data": {
      "image/png": "[encoded data removed]",
      "text/plain": [
       "<Figure size 864x720 with 1 Axes>"
      ]
     },
     "metadata": {
      "needs_background": "light"
     },
     "output_type": "display_data"
    }
   ],
   "source": [
    "plt.figure(figsize=(12,10))\n",
    "sns.barplot(master_frame.country_code,master_frame.raised_amount_usd,estimator = np.sum)\n",
    "plt.show()"
   ]
  },
  {
   "cell_type": "markdown",
   "metadata": {},
   "source": [
    "___From the above bar plot, we could see that USA, GBR and IND are the top three English speaking countries with highest total funcding across ALL sectors for the Venture investment type___"
   ]
  },
  {
   "cell_type": "code",
   "execution_count": 728,
   "metadata": {},
   "outputs": [],
   "source": [
    "topcountries = master_frame.groupby('country_code',as_index= False).raised_amount_usd.sum().sort_values(by = 'raised_amount_usd',ascending = False).set_index('country_code',drop=True)"
   ]
  },
  {
   "cell_type": "code",
   "execution_count": 729,
   "metadata": {},
   "outputs": [
    {
     "data": {
      "text/html": [
       "<div>\n",
       "<style scoped>\n",
       "    .dataframe tbody tr th:only-of-type {\n",
       "        vertical-align: middle;\n",
       "    }\n",
       "\n",
       "    .dataframe tbody tr th {\n",
       "        vertical-align: top;\n",
       "    }\n",
       "\n",
       "    .dataframe thead th {\n",
       "        text-align: right;\n",
       "    }\n",
       "</style>\n",
       "<table border=\"1\" class=\"dataframe\">\n",
       "  <thead>\n",
       "    <tr style=\"text-align: right;\">\n",
       "      <th></th>\n",
       "      <th>raised_amount_usd</th>\n",
       "    </tr>\n",
       "    <tr>\n",
       "      <th>country_code</th>\n",
       "      <th></th>\n",
       "    </tr>\n",
       "  </thead>\n",
       "  <tbody>\n",
       "    <tr>\n",
       "      <th>USA</th>\n",
       "      <td>420068.029342</td>\n",
       "    </tr>\n",
       "    <tr>\n",
       "      <th>GBR</th>\n",
       "      <td>20072.813004</td>\n",
       "    </tr>\n",
       "    <tr>\n",
       "      <th>IND</th>\n",
       "      <td>14261.508718</td>\n",
       "    </tr>\n",
       "    <tr>\n",
       "      <th>CAN</th>\n",
       "      <td>9482.217668</td>\n",
       "    </tr>\n",
       "    <tr>\n",
       "      <th>SGP</th>\n",
       "      <td>2793.917856</td>\n",
       "    </tr>\n",
       "    <tr>\n",
       "      <th>IRL</th>\n",
       "      <td>1669.285543</td>\n",
       "    </tr>\n",
       "    <tr>\n",
       "      <th>AUS</th>\n",
       "      <td>1319.028698</td>\n",
       "    </tr>\n",
       "    <tr>\n",
       "      <th>NZL</th>\n",
       "      <td>448.316383</td>\n",
       "    </tr>\n",
       "    <tr>\n",
       "      <th>ZAF</th>\n",
       "      <td>233.713106</td>\n",
       "    </tr>\n",
       "  </tbody>\n",
       "</table>\n",
       "</div>"
      ],
      "text/plain": [
       "              raised_amount_usd\n",
       "country_code                   \n",
       "USA               420068.029342\n",
       "GBR                20072.813004\n",
       "IND                14261.508718\n",
       "CAN                 9482.217668\n",
       "SGP                 2793.917856\n",
       "IRL                 1669.285543\n",
       "AUS                 1319.028698\n",
       "NZL                  448.316383\n",
       "ZAF                  233.713106"
      ]
     },
     "execution_count": 729,
     "metadata": {},
     "output_type": "execute_result"
    }
   ],
   "source": [
    "top9 = topcountries[0:9]\n",
    "top9"
   ]
  },
  {
   "cell_type": "markdown",
   "metadata": {},
   "source": [
    "___From the at above table we can answer the following questions.___ <br><br>\n",
    "__Q1. Top English speaking country__ <br>\n",
    "-> USA<br>\n",
    "__Q2. Second English speaking country__ <br>\n",
    "-> GBR<br>\n",
    "__Q3. Third English speaking country__ <br>\n",
    "-> IND"
   ]
  },
  {
   "cell_type": "markdown",
   "metadata": {},
   "source": [
    "# Sector Analysis 1"
   ]
  },
  {
   "cell_type": "markdown",
   "metadata": {},
   "source": [
    "__master_frame narrowing down to only top 3 countries, i.e. USA, GBR and IND__"
   ]
  },
  {
   "cell_type": "code",
   "execution_count": 730,
   "metadata": {},
   "outputs": [],
   "source": [
    "master_frame = master_frame[master_frame.country_code.isin(top9.index[0:3])].reset_index(drop = True)"
   ]
  },
  {
   "cell_type": "markdown",
   "metadata": {},
   "source": [
    "__Extract the primary sector of each category list from the category_list\n",
    "column__"
   ]
  },
  {
   "cell_type": "code",
   "execution_count": 731,
   "metadata": {},
   "outputs": [],
   "source": [
    "master_frame['Primary_Sector'] = master_frame.category_list.apply(lambda x : str(x).split(\"|\")[0]).str.lower()"
   ]
  },
  {
   "cell_type": "code",
   "execution_count": 732,
   "metadata": {},
   "outputs": [
    {
     "data": {
      "text/html": [
       "<div>\n",
       "<style scoped>\n",
       "    .dataframe tbody tr th:only-of-type {\n",
       "        vertical-align: middle;\n",
       "    }\n",
       "\n",
       "    .dataframe tbody tr th {\n",
       "        vertical-align: top;\n",
       "    }\n",
       "\n",
       "    .dataframe thead th {\n",
       "        text-align: right;\n",
       "    }\n",
       "</style>\n",
       "<table border=\"1\" class=\"dataframe\">\n",
       "  <thead>\n",
       "    <tr style=\"text-align: right;\">\n",
       "      <th></th>\n",
       "      <th>company_permalink</th>\n",
       "      <th>funding_round_permalink</th>\n",
       "      <th>funding_round_type</th>\n",
       "      <th>funded_at</th>\n",
       "      <th>raised_amount_usd</th>\n",
       "      <th>name</th>\n",
       "      <th>category_list</th>\n",
       "      <th>status</th>\n",
       "      <th>country_code</th>\n",
       "      <th>Primary_Sector</th>\n",
       "    </tr>\n",
       "  </thead>\n",
       "  <tbody>\n",
       "    <tr>\n",
       "      <th>0</th>\n",
       "      <td>/organization/-fame</td>\n",
       "      <td>/funding-round/9a01d05418af9f794eebff7ace91f638</td>\n",
       "      <td>venture</td>\n",
       "      <td>5/1/2015</td>\n",
       "      <td>10.0</td>\n",
       "      <td>#fame</td>\n",
       "      <td>Media</td>\n",
       "      <td>operating</td>\n",
       "      <td>IND</td>\n",
       "      <td>media</td>\n",
       "    </tr>\n",
       "    <tr>\n",
       "      <th>1</th>\n",
       "      <td>/organization/0xdata</td>\n",
       "      <td>/funding-round/3bb2ee4a2d89251a10aaa735b1180e44</td>\n",
       "      <td>venture</td>\n",
       "      <td>9/11/2015</td>\n",
       "      <td>20.0</td>\n",
       "      <td>H2O.ai</td>\n",
       "      <td>Analytics</td>\n",
       "      <td>operating</td>\n",
       "      <td>USA</td>\n",
       "      <td>analytics</td>\n",
       "    </tr>\n",
       "    <tr>\n",
       "      <th>2</th>\n",
       "      <td>/organization/0xdata</td>\n",
       "      <td>/funding-round/ae2a174c06517c2394aed45006322a7e</td>\n",
       "      <td>venture</td>\n",
       "      <td>3/1/2013</td>\n",
       "      <td>1.7</td>\n",
       "      <td>H2O.ai</td>\n",
       "      <td>Analytics</td>\n",
       "      <td>operating</td>\n",
       "      <td>USA</td>\n",
       "      <td>analytics</td>\n",
       "    </tr>\n",
       "    <tr>\n",
       "      <th>3</th>\n",
       "      <td>/organization/0xdata</td>\n",
       "      <td>/funding-round/e1cfcbe1bdf4c70277c5f29a3482f24e</td>\n",
       "      <td>venture</td>\n",
       "      <td>19-07-2014</td>\n",
       "      <td>8.9</td>\n",
       "      <td>H2O.ai</td>\n",
       "      <td>Analytics</td>\n",
       "      <td>operating</td>\n",
       "      <td>USA</td>\n",
       "      <td>analytics</td>\n",
       "    </tr>\n",
       "    <tr>\n",
       "      <th>4</th>\n",
       "      <td>/organization/1-mainstream</td>\n",
       "      <td>/funding-round/b952cbaf401f310927430c97b68162ea</td>\n",
       "      <td>venture</td>\n",
       "      <td>17-03-2015</td>\n",
       "      <td>5.0</td>\n",
       "      <td>1 Mainstream</td>\n",
       "      <td>Apps|Cable|Distribution|Software</td>\n",
       "      <td>acquired</td>\n",
       "      <td>USA</td>\n",
       "      <td>apps</td>\n",
       "    </tr>\n",
       "  </tbody>\n",
       "</table>\n",
       "</div>"
      ],
      "text/plain": [
       "            company_permalink  \\\n",
       "0         /organization/-fame   \n",
       "1        /organization/0xdata   \n",
       "2        /organization/0xdata   \n",
       "3        /organization/0xdata   \n",
       "4  /organization/1-mainstream   \n",
       "\n",
       "                           funding_round_permalink funding_round_type  \\\n",
       "0  /funding-round/9a01d05418af9f794eebff7ace91f638            venture   \n",
       "1  /funding-round/3bb2ee4a2d89251a10aaa735b1180e44            venture   \n",
       "2  /funding-round/ae2a174c06517c2394aed45006322a7e            venture   \n",
       "3  /funding-round/e1cfcbe1bdf4c70277c5f29a3482f24e            venture   \n",
       "4  /funding-round/b952cbaf401f310927430c97b68162ea            venture   \n",
       "\n",
       "    funded_at  raised_amount_usd          name  \\\n",
       "0    5/1/2015               10.0         #fame   \n",
       "1   9/11/2015               20.0        H2O.ai   \n",
       "2    3/1/2013                1.7        H2O.ai   \n",
       "3  19-07-2014                8.9        H2O.ai   \n",
       "4  17-03-2015                5.0  1 Mainstream   \n",
       "\n",
       "                      category_list     status country_code Primary_Sector  \n",
       "0                             Media  operating          IND          media  \n",
       "1                         Analytics  operating          USA      analytics  \n",
       "2                         Analytics  operating          USA      analytics  \n",
       "3                         Analytics  operating          USA      analytics  \n",
       "4  Apps|Cable|Distribution|Software   acquired          USA           apps  "
      ]
     },
     "execution_count": 732,
     "metadata": {},
     "output_type": "execute_result"
    }
   ],
   "source": [
    "master_frame.head()"
   ]
  },
  {
   "cell_type": "code",
   "execution_count": 733,
   "metadata": {},
   "outputs": [],
   "source": [
    "# Reading massping.csv\n",
    "mapping = pd.read_csv('mapping.csv')"
   ]
  },
  {
   "cell_type": "code",
   "execution_count": 734,
   "metadata": {},
   "outputs": [
    {
     "data": {
      "text/plain": [
       "category_list                              1\n",
       "Automotive & Sports                        0\n",
       "Blanks                                     0\n",
       "Cleantech / Semiconductors                 0\n",
       "Entertainment                              0\n",
       "Health                                     0\n",
       "Manufacturing                              0\n",
       "News, Search and Messaging                 0\n",
       "Others                                     0\n",
       "Social, Finance, Analytics, Advertising    0\n",
       "dtype: int64"
      ]
     },
     "execution_count": 734,
     "metadata": {},
     "output_type": "execute_result"
    }
   ],
   "source": [
    "# Check for missing value\n",
    "mapping.isnull().sum()"
   ]
  },
  {
   "cell_type": "code",
   "execution_count": 735,
   "metadata": {},
   "outputs": [],
   "source": [
    "# Removing the null rows in the mapping dataframe\n",
    "mapping = mapping[~mapping.category_list.isnull()]"
   ]
  },
  {
   "cell_type": "code",
   "execution_count": 737,
   "metadata": {},
   "outputs": [],
   "source": [
    "# Cleaning the typos\n",
    "# A0lytics -> Analytics\n",
    "mapping.category_list = mapping.category_list.map(lambda x: x.replace('0', 'na'))\n",
    "mapping.category_list = mapping.category_list.str.strip()\n",
    "mapping.category_list = mapping.category_list.str.lower()"
   ]
  },
  {
   "cell_type": "markdown",
   "metadata": {},
   "source": [
    "___Map each of Primary sectors to one of main sectors for ease of manupulation___\n"
   ]
  },
  {
   "cell_type": "code",
   "execution_count": 738,
   "metadata": {},
   "outputs": [],
   "source": [
    "# Creating an unpivoted table of mapping dataframe\n",
    "# where each category_list has a corresponding main_sector assigned\n",
    "mappingdf = pd.melt(mapping,id_vars = ['category_list'],var_name = ['Main_Sector'])\n",
    "mappingdf = mappingdf[mappingdf.value == 1].reset_index(drop = True).drop('value',axis = 1).rename(columns = {'category_list':'Primary_Sector'})\n",
    "mappingdf.Primary_Sector = mappingdf.Primary_Sector.str.lower().str.strip()\n",
    "mappingdf.Main_Sector = mappingdf.Main_Sector.str.lower()"
   ]
  },
  {
   "cell_type": "code",
   "execution_count": 739,
   "metadata": {},
   "outputs": [
    {
     "data": {
      "text/html": [
       "<div>\n",
       "<style scoped>\n",
       "    .dataframe tbody tr th:only-of-type {\n",
       "        vertical-align: middle;\n",
       "    }\n",
       "\n",
       "    .dataframe tbody tr th {\n",
       "        vertical-align: top;\n",
       "    }\n",
       "\n",
       "    .dataframe thead th {\n",
       "        text-align: right;\n",
       "    }\n",
       "</style>\n",
       "<table border=\"1\" class=\"dataframe\">\n",
       "  <thead>\n",
       "    <tr style=\"text-align: right;\">\n",
       "      <th></th>\n",
       "      <th>Primary_Sector</th>\n",
       "      <th>Main_Sector</th>\n",
       "    </tr>\n",
       "  </thead>\n",
       "  <tbody>\n",
       "    <tr>\n",
       "      <th>0</th>\n",
       "      <td>adventure travel</td>\n",
       "      <td>automotive &amp; sports</td>\n",
       "    </tr>\n",
       "    <tr>\n",
       "      <th>1</th>\n",
       "      <td>aerospace</td>\n",
       "      <td>automotive &amp; sports</td>\n",
       "    </tr>\n",
       "    <tr>\n",
       "      <th>2</th>\n",
       "      <td>auto</td>\n",
       "      <td>automotive &amp; sports</td>\n",
       "    </tr>\n",
       "    <tr>\n",
       "      <th>3</th>\n",
       "      <td>automated kiosk</td>\n",
       "      <td>automotive &amp; sports</td>\n",
       "    </tr>\n",
       "    <tr>\n",
       "      <th>4</th>\n",
       "      <td>automotive</td>\n",
       "      <td>automotive &amp; sports</td>\n",
       "    </tr>\n",
       "  </tbody>\n",
       "</table>\n",
       "</div>"
      ],
      "text/plain": [
       "     Primary_Sector          Main_Sector\n",
       "0  adventure travel  automotive & sports\n",
       "1         aerospace  automotive & sports\n",
       "2              auto  automotive & sports\n",
       "3   automated kiosk  automotive & sports\n",
       "4        automotive  automotive & sports"
      ]
     },
     "execution_count": 739,
     "metadata": {},
     "output_type": "execute_result"
    }
   ],
   "source": [
    "mappingdf.head()"
   ]
  },
  {
   "cell_type": "code",
   "execution_count": 740,
   "metadata": {},
   "outputs": [],
   "source": [
    "master_frame.Primary_Sector = master_frame.Primary_Sector.str.lower().str.strip()\n",
    "master_frame = master_frame.merge(mappingdf,on= 'Primary_Sector',how = 'inner')"
   ]
  },
  {
   "cell_type": "code",
   "execution_count": 741,
   "metadata": {},
   "outputs": [
    {
     "data": {
      "text/html": [
       "<div>\n",
       "<style scoped>\n",
       "    .dataframe tbody tr th:only-of-type {\n",
       "        vertical-align: middle;\n",
       "    }\n",
       "\n",
       "    .dataframe tbody tr th {\n",
       "        vertical-align: top;\n",
       "    }\n",
       "\n",
       "    .dataframe thead th {\n",
       "        text-align: right;\n",
       "    }\n",
       "</style>\n",
       "<table border=\"1\" class=\"dataframe\">\n",
       "  <thead>\n",
       "    <tr style=\"text-align: right;\">\n",
       "      <th></th>\n",
       "      <th>company_permalink</th>\n",
       "      <th>funding_round_permalink</th>\n",
       "      <th>funding_round_type</th>\n",
       "      <th>funded_at</th>\n",
       "      <th>raised_amount_usd</th>\n",
       "      <th>name</th>\n",
       "      <th>category_list</th>\n",
       "      <th>status</th>\n",
       "      <th>country_code</th>\n",
       "      <th>Primary_Sector</th>\n",
       "      <th>Main_Sector</th>\n",
       "    </tr>\n",
       "  </thead>\n",
       "  <tbody>\n",
       "    <tr>\n",
       "      <th>38783</th>\n",
       "      <td>/organization/yapta</td>\n",
       "      <td>/funding-round/b1777df10578e852be3afbe3bc325435</td>\n",
       "      <td>venture</td>\n",
       "      <td>22-07-2013</td>\n",
       "      <td>4.220000</td>\n",
       "      <td>Yapta</td>\n",
       "      <td>Tracking|Transportation|Travel</td>\n",
       "      <td>operating</td>\n",
       "      <td>USA</td>\n",
       "      <td>tracking</td>\n",
       "      <td>others</td>\n",
       "    </tr>\n",
       "    <tr>\n",
       "      <th>38784</th>\n",
       "      <td>/organization/yapta</td>\n",
       "      <td>/funding-round/ed75e1064eb8b50c01c2e0b691ca9f1e</td>\n",
       "      <td>venture</td>\n",
       "      <td>25-06-2009</td>\n",
       "      <td>2.000000</td>\n",
       "      <td>Yapta</td>\n",
       "      <td>Tracking|Transportation|Travel</td>\n",
       "      <td>operating</td>\n",
       "      <td>USA</td>\n",
       "      <td>tracking</td>\n",
       "      <td>others</td>\n",
       "    </tr>\n",
       "    <tr>\n",
       "      <th>38785</th>\n",
       "      <td>/organization/yapta</td>\n",
       "      <td>/funding-round/fc066baf3121b060b574214612a6c946</td>\n",
       "      <td>venture</td>\n",
       "      <td>29-07-2015</td>\n",
       "      <td>1.786563</td>\n",
       "      <td>Yapta</td>\n",
       "      <td>Tracking|Transportation|Travel</td>\n",
       "      <td>operating</td>\n",
       "      <td>USA</td>\n",
       "      <td>tracking</td>\n",
       "      <td>others</td>\n",
       "    </tr>\n",
       "    <tr>\n",
       "      <th>38786</th>\n",
       "      <td>/organization/ziftit</td>\n",
       "      <td>/funding-round/d5713b26dbc5e0c65ccc426377449435</td>\n",
       "      <td>venture</td>\n",
       "      <td>9/7/2013</td>\n",
       "      <td>4.000000</td>\n",
       "      <td>Ziftit</td>\n",
       "      <td>Gift Registries|Shopping</td>\n",
       "      <td>closed</td>\n",
       "      <td>USA</td>\n",
       "      <td>gift registries</td>\n",
       "      <td>others</td>\n",
       "    </tr>\n",
       "    <tr>\n",
       "      <th>38787</th>\n",
       "      <td>/organization/zonarsystems</td>\n",
       "      <td>/funding-round/f0126dbea5d6075d8d4a1c2d106d9eca</td>\n",
       "      <td>venture</td>\n",
       "      <td>8/7/2015</td>\n",
       "      <td>50.000000</td>\n",
       "      <td>Zonar Systems</td>\n",
       "      <td>Task Management|Tracking</td>\n",
       "      <td>operating</td>\n",
       "      <td>USA</td>\n",
       "      <td>task management</td>\n",
       "      <td>others</td>\n",
       "    </tr>\n",
       "  </tbody>\n",
       "</table>\n",
       "</div>"
      ],
      "text/plain": [
       "                company_permalink  \\\n",
       "38783         /organization/yapta   \n",
       "38784         /organization/yapta   \n",
       "38785         /organization/yapta   \n",
       "38786        /organization/ziftit   \n",
       "38787  /organization/zonarsystems   \n",
       "\n",
       "                               funding_round_permalink funding_round_type  \\\n",
       "38783  /funding-round/b1777df10578e852be3afbe3bc325435            venture   \n",
       "38784  /funding-round/ed75e1064eb8b50c01c2e0b691ca9f1e            venture   \n",
       "38785  /funding-round/fc066baf3121b060b574214612a6c946            venture   \n",
       "38786  /funding-round/d5713b26dbc5e0c65ccc426377449435            venture   \n",
       "38787  /funding-round/f0126dbea5d6075d8d4a1c2d106d9eca            venture   \n",
       "\n",
       "        funded_at  raised_amount_usd           name  \\\n",
       "38783  22-07-2013           4.220000          Yapta   \n",
       "38784  25-06-2009           2.000000          Yapta   \n",
       "38785  29-07-2015           1.786563          Yapta   \n",
       "38786    9/7/2013           4.000000         Ziftit   \n",
       "38787    8/7/2015          50.000000  Zonar Systems   \n",
       "\n",
       "                        category_list     status country_code  \\\n",
       "38783  Tracking|Transportation|Travel  operating          USA   \n",
       "38784  Tracking|Transportation|Travel  operating          USA   \n",
       "38785  Tracking|Transportation|Travel  operating          USA   \n",
       "38786        Gift Registries|Shopping     closed          USA   \n",
       "38787        Task Management|Tracking  operating          USA   \n",
       "\n",
       "        Primary_Sector Main_Sector  \n",
       "38783         tracking      others  \n",
       "38784         tracking      others  \n",
       "38785         tracking      others  \n",
       "38786  gift registries      others  \n",
       "38787  task management      others  "
      ]
     },
     "execution_count": 741,
     "metadata": {},
     "output_type": "execute_result"
    }
   ],
   "source": [
    "master_frame.tail()"
   ]
  },
  {
   "cell_type": "code",
   "execution_count": 742,
   "metadata": {},
   "outputs": [
    {
     "data": {
      "text/plain": [
       "(38788, 11)"
      ]
     },
     "execution_count": 742,
     "metadata": {},
     "output_type": "execute_result"
    }
   ],
   "source": [
    "master_frame.shape"
   ]
  },
  {
   "cell_type": "markdown",
   "metadata": {},
   "source": [
    "## Sector Analysis 2"
   ]
  },
  {
   "cell_type": "markdown",
   "metadata": {},
   "source": [
    "\n",
    "Now let's create three more dataframe based on the top three countries, funding type(venture) and range of funding between 5 to 15 million USD<br>\n"
   ]
  },
  {
   "cell_type": "markdown",
   "metadata": {},
   "source": [
    "## For USA \n",
    "### DataFrame 1 (D1)\n"
   ]
  },
  {
   "cell_type": "code",
   "execution_count": 744,
   "metadata": {},
   "outputs": [
    {
     "data": {
      "text/html": [
       "<div>\n",
       "<style scoped>\n",
       "    .dataframe tbody tr th:only-of-type {\n",
       "        vertical-align: middle;\n",
       "    }\n",
       "\n",
       "    .dataframe tbody tr th {\n",
       "        vertical-align: top;\n",
       "    }\n",
       "\n",
       "    .dataframe thead th {\n",
       "        text-align: right;\n",
       "    }\n",
       "</style>\n",
       "<table border=\"1\" class=\"dataframe\">\n",
       "  <thead>\n",
       "    <tr style=\"text-align: right;\">\n",
       "      <th></th>\n",
       "      <th>Main_Sector</th>\n",
       "      <th>count</th>\n",
       "      <th>sum</th>\n",
       "    </tr>\n",
       "  </thead>\n",
       "  <tbody>\n",
       "    <tr>\n",
       "      <th>0</th>\n",
       "      <td>others</td>\n",
       "      <td>2950</td>\n",
       "      <td>26321.007002</td>\n",
       "    </tr>\n",
       "    <tr>\n",
       "      <th>1</th>\n",
       "      <td>social, finance, analytics, advertising</td>\n",
       "      <td>2714</td>\n",
       "      <td>23807.376964</td>\n",
       "    </tr>\n",
       "    <tr>\n",
       "      <th>2</th>\n",
       "      <td>cleantech / semiconductors</td>\n",
       "      <td>2350</td>\n",
       "      <td>21633.430822</td>\n",
       "    </tr>\n",
       "    <tr>\n",
       "      <th>3</th>\n",
       "      <td>news, search and messaging</td>\n",
       "      <td>1583</td>\n",
       "      <td>13971.567428</td>\n",
       "    </tr>\n",
       "    <tr>\n",
       "      <th>4</th>\n",
       "      <td>health</td>\n",
       "      <td>909</td>\n",
       "      <td>8211.859357</td>\n",
       "    </tr>\n",
       "    <tr>\n",
       "      <th>5</th>\n",
       "      <td>manufacturing</td>\n",
       "      <td>799</td>\n",
       "      <td>7258.553378</td>\n",
       "    </tr>\n",
       "    <tr>\n",
       "      <th>6</th>\n",
       "      <td>entertainment</td>\n",
       "      <td>591</td>\n",
       "      <td>5099.197982</td>\n",
       "    </tr>\n",
       "    <tr>\n",
       "      <th>7</th>\n",
       "      <td>automotive &amp; sports</td>\n",
       "      <td>167</td>\n",
       "      <td>1454.104361</td>\n",
       "    </tr>\n",
       "  </tbody>\n",
       "</table>\n",
       "</div>"
      ],
      "text/plain": [
       "                               Main_Sector  count           sum\n",
       "0                                   others   2950  26321.007002\n",
       "1  social, finance, analytics, advertising   2714  23807.376964\n",
       "2               cleantech / semiconductors   2350  21633.430822\n",
       "3               news, search and messaging   1583  13971.567428\n",
       "4                                   health    909   8211.859357\n",
       "5                            manufacturing    799   7258.553378\n",
       "6                            entertainment    591   5099.197982\n",
       "7                      automotive & sports    167   1454.104361"
      ]
     },
     "execution_count": 744,
     "metadata": {},
     "output_type": "execute_result"
    }
   ],
   "source": [
    "# Create a dataframe named 'D1' for top country (USA) and funding type(venture)\n",
    "D1 = master_frame[master_frame.country_code == 'USA']\n",
    "D1 = D1[(D1.raised_amount_usd >=5) & (D1.raised_amount_usd <=15)]\n",
    "# Create a dataframe named 'D1_values' that shows the value of sum and count based on main_sector\n",
    "D1_values = D1.groupby('Main_Sector').raised_amount_usd.agg(['count','sum']).sort_values(by= 'count',ascending = False).reset_index()\n",
    "# Create a dataframe D1 having each main_sector mapped to their sum and count values\n",
    "D1 = D1.merge(D1_values,how = 'inner',on = 'Main_Sector')\n",
    "D1_values"
   ]
  },
  {
   "cell_type": "code",
   "execution_count": 745,
   "metadata": {},
   "outputs": [
    {
     "data": {
      "text/plain": [
       "(12063, 13)"
      ]
     },
     "execution_count": 745,
     "metadata": {},
     "output_type": "execute_result"
    }
   ],
   "source": [
    "# Q1. Total number of investments(count)\n",
    "D1.shape"
   ]
  },
  {
   "cell_type": "code",
   "execution_count": 746,
   "metadata": {},
   "outputs": [
    {
     "data": {
      "text/plain": [
       "107757.097294"
      ]
     },
     "execution_count": 746,
     "metadata": {},
     "output_type": "execute_result"
    }
   ],
   "source": [
    "# Q2. Total amount of investment (USD)\n",
    "D1.raised_amount_usd.sum()"
   ]
  },
  {
   "cell_type": "markdown",
   "metadata": {},
   "source": [
    "___Based on the above table we can answer the following questions about USA:___ <br>\n",
    "__.Total Number of Investments__ <br>\n",
    "-> 12063 <br><br>\n",
    "__.Total amount of investment (USD)__ <br>\n",
    "-> 107757.097294 Million USD <br><br>\n",
    "\n",
    "__.Top Sector name (no. of investment-wise)__<br>\n",
    "-> others<br><br>\n",
    "__.Second Sector name (no. of investment-wise)__<br>\n",
    "-> social, finance, analytics, advertising<br><br>\n",
    "\n",
    "__.Third Sector name (no. of investment-wise)__<br>\n",
    "-> cleantech / semiconductors <br><br>\n",
    "__Number of investments in top sector__<br>\n",
    "-> 2950<br><br>\n",
    "__Number of investments in second sector__<br>\n",
    "-> 2714<br><br>\n",
    "__Number of investments in third sector__<br>\n",
    "-> 2350"
   ]
  },
  {
   "cell_type": "code",
   "execution_count": 748,
   "metadata": {},
   "outputs": [
    {
     "data": {
      "text/html": [
       "<div>\n",
       "<style scoped>\n",
       "    .dataframe tbody tr th:only-of-type {\n",
       "        vertical-align: middle;\n",
       "    }\n",
       "\n",
       "    .dataframe tbody tr th {\n",
       "        vertical-align: top;\n",
       "    }\n",
       "\n",
       "    .dataframe thead th {\n",
       "        text-align: right;\n",
       "    }\n",
       "</style>\n",
       "<table border=\"1\" class=\"dataframe\">\n",
       "  <thead>\n",
       "    <tr style=\"text-align: right;\">\n",
       "      <th></th>\n",
       "      <th>count</th>\n",
       "      <th>sum</th>\n",
       "    </tr>\n",
       "    <tr>\n",
       "      <th>company_permalink</th>\n",
       "      <th></th>\n",
       "      <th></th>\n",
       "    </tr>\n",
       "  </thead>\n",
       "  <tbody>\n",
       "    <tr>\n",
       "      <th>/organization/virtustream</th>\n",
       "      <td>6</td>\n",
       "      <td>64.300000</td>\n",
       "    </tr>\n",
       "    <tr>\n",
       "      <th>/organization/capella</th>\n",
       "      <td>6</td>\n",
       "      <td>54.968051</td>\n",
       "    </tr>\n",
       "    <tr>\n",
       "      <th>/organization/airtight-networks</th>\n",
       "      <td>5</td>\n",
       "      <td>54.201907</td>\n",
       "    </tr>\n",
       "    <tr>\n",
       "      <th>/organization/decarta</th>\n",
       "      <td>5</td>\n",
       "      <td>52.100000</td>\n",
       "    </tr>\n",
       "    <tr>\n",
       "      <th>/organization/black-duck-software</th>\n",
       "      <td>6</td>\n",
       "      <td>51.000000</td>\n",
       "    </tr>\n",
       "  </tbody>\n",
       "</table>\n",
       "</div>"
      ],
      "text/plain": [
       "                                   count        sum\n",
       "company_permalink                                  \n",
       "/organization/virtustream              6  64.300000\n",
       "/organization/capella                  6  54.968051\n",
       "/organization/airtight-networks        5  54.201907\n",
       "/organization/decarta                  5  52.100000\n",
       "/organization/black-duck-software      6  51.000000"
      ]
     },
     "execution_count": 748,
     "metadata": {},
     "output_type": "execute_result"
    }
   ],
   "source": [
    "# Q9. For point 3 (top sector count-wise), which company received the highest investment?\n",
    "D1[D1.Main_Sector=='others'].groupby('company_permalink').raised_amount_usd.agg(['count','sum']).sort_values(by= 'sum',ascending = False).head()"
   ]
  },
  {
   "cell_type": "code",
   "execution_count": 773,
   "metadata": {},
   "outputs": [
    {
     "name": "stdout",
     "output_type": "stream",
     "text": [
      "['Virtustream']\n"
     ]
    }
   ],
   "source": [
    "# Find out the company name\n",
    "print(D1[D1.company_permalink == '/organization/virtustream'].name.unique())"
   ]
  },
  {
   "cell_type": "code",
   "execution_count": 765,
   "metadata": {},
   "outputs": [
    {
     "data": {
      "text/html": [
       "<div>\n",
       "<style scoped>\n",
       "    .dataframe tbody tr th:only-of-type {\n",
       "        vertical-align: middle;\n",
       "    }\n",
       "\n",
       "    .dataframe tbody tr th {\n",
       "        vertical-align: top;\n",
       "    }\n",
       "\n",
       "    .dataframe thead th {\n",
       "        text-align: right;\n",
       "    }\n",
       "</style>\n",
       "<table border=\"1\" class=\"dataframe\">\n",
       "  <thead>\n",
       "    <tr style=\"text-align: right;\">\n",
       "      <th></th>\n",
       "      <th>count</th>\n",
       "      <th>sum</th>\n",
       "    </tr>\n",
       "    <tr>\n",
       "      <th>company_permalink</th>\n",
       "      <th></th>\n",
       "      <th></th>\n",
       "    </tr>\n",
       "  </thead>\n",
       "  <tbody>\n",
       "    <tr>\n",
       "      <th>/organization/shotspotter</th>\n",
       "      <td>7</td>\n",
       "      <td>67.933006</td>\n",
       "    </tr>\n",
       "    <tr>\n",
       "      <th>/organization/demandbase</th>\n",
       "      <td>5</td>\n",
       "      <td>63.000000</td>\n",
       "    </tr>\n",
       "    <tr>\n",
       "      <th>/organization/intacct</th>\n",
       "      <td>5</td>\n",
       "      <td>61.800000</td>\n",
       "    </tr>\n",
       "    <tr>\n",
       "      <th>/organization/netbase</th>\n",
       "      <td>7</td>\n",
       "      <td>60.600000</td>\n",
       "    </tr>\n",
       "    <tr>\n",
       "      <th>/organization/lotame</th>\n",
       "      <td>5</td>\n",
       "      <td>59.700000</td>\n",
       "    </tr>\n",
       "  </tbody>\n",
       "</table>\n",
       "</div>"
      ],
      "text/plain": [
       "                           count        sum\n",
       "company_permalink                          \n",
       "/organization/shotspotter      7  67.933006\n",
       "/organization/demandbase       5  63.000000\n",
       "/organization/intacct          5  61.800000\n",
       "/organization/netbase          7  60.600000\n",
       "/organization/lotame           5  59.700000"
      ]
     },
     "execution_count": 765,
     "metadata": {},
     "output_type": "execute_result"
    }
   ],
   "source": [
    "# Q10. For point 4 (second best sector count-wise), which company received the highest investment?\n",
    "D1[D1.Main_Sector=='social, finance, analytics, advertising'].groupby('company_permalink').raised_amount_usd.agg(['count','sum']).sort_values(by= 'sum',ascending = False).head()"
   ]
  },
  {
   "cell_type": "code",
   "execution_count": 775,
   "metadata": {},
   "outputs": [
    {
     "name": "stdout",
     "output_type": "stream",
     "text": [
      "['SST Inc. (Formerly ShotSpotter)']\n"
     ]
    }
   ],
   "source": [
    "# Find out the company name\n",
    "print(D1[D1.company_permalink == '/organization/shotspotter'].name.unique())"
   ]
  },
  {
   "cell_type": "markdown",
   "metadata": {},
   "source": [
    "___Based on the above table we can answer the following questions about USA:___ <br><br>\n",
    "__.The company which received highest investment in the top sector i.e. others__ <br>\n",
    "-> /organization/virtustream <br><br>\n",
    "__. The company which received highest investment in the second best sector i.e. social, finance, analytics, advertising__ <br>\n",
    "-> /organization/shotspotter\t <br><br>"
   ]
  },
  {
   "cell_type": "markdown",
   "metadata": {},
   "source": [
    "## For GBR \n",
    "### DataFrame 2 (D2)"
   ]
  },
  {
   "cell_type": "code",
   "execution_count": 750,
   "metadata": {},
   "outputs": [
    {
     "data": {
      "text/html": [
       "<div>\n",
       "<style scoped>\n",
       "    .dataframe tbody tr th:only-of-type {\n",
       "        vertical-align: middle;\n",
       "    }\n",
       "\n",
       "    .dataframe tbody tr th {\n",
       "        vertical-align: top;\n",
       "    }\n",
       "\n",
       "    .dataframe thead th {\n",
       "        text-align: right;\n",
       "    }\n",
       "</style>\n",
       "<table border=\"1\" class=\"dataframe\">\n",
       "  <thead>\n",
       "    <tr style=\"text-align: right;\">\n",
       "      <th></th>\n",
       "      <th>Main_Sector</th>\n",
       "      <th>count</th>\n",
       "      <th>sum</th>\n",
       "    </tr>\n",
       "  </thead>\n",
       "  <tbody>\n",
       "    <tr>\n",
       "      <th>0</th>\n",
       "      <td>others</td>\n",
       "      <td>147</td>\n",
       "      <td>1283.624289</td>\n",
       "    </tr>\n",
       "    <tr>\n",
       "      <th>1</th>\n",
       "      <td>social, finance, analytics, advertising</td>\n",
       "      <td>133</td>\n",
       "      <td>1089.404014</td>\n",
       "    </tr>\n",
       "    <tr>\n",
       "      <th>2</th>\n",
       "      <td>cleantech / semiconductors</td>\n",
       "      <td>130</td>\n",
       "      <td>1163.990056</td>\n",
       "    </tr>\n",
       "    <tr>\n",
       "      <th>3</th>\n",
       "      <td>news, search and messaging</td>\n",
       "      <td>73</td>\n",
       "      <td>615.746235</td>\n",
       "    </tr>\n",
       "    <tr>\n",
       "      <th>4</th>\n",
       "      <td>entertainment</td>\n",
       "      <td>56</td>\n",
       "      <td>482.784687</td>\n",
       "    </tr>\n",
       "    <tr>\n",
       "      <th>5</th>\n",
       "      <td>manufacturing</td>\n",
       "      <td>42</td>\n",
       "      <td>361.940335</td>\n",
       "    </tr>\n",
       "    <tr>\n",
       "      <th>6</th>\n",
       "      <td>health</td>\n",
       "      <td>24</td>\n",
       "      <td>214.537510</td>\n",
       "    </tr>\n",
       "    <tr>\n",
       "      <th>7</th>\n",
       "      <td>automotive &amp; sports</td>\n",
       "      <td>16</td>\n",
       "      <td>167.051565</td>\n",
       "    </tr>\n",
       "  </tbody>\n",
       "</table>\n",
       "</div>"
      ],
      "text/plain": [
       "                               Main_Sector  count          sum\n",
       "0                                   others    147  1283.624289\n",
       "1  social, finance, analytics, advertising    133  1089.404014\n",
       "2               cleantech / semiconductors    130  1163.990056\n",
       "3               news, search and messaging     73   615.746235\n",
       "4                            entertainment     56   482.784687\n",
       "5                            manufacturing     42   361.940335\n",
       "6                                   health     24   214.537510\n",
       "7                      automotive & sports     16   167.051565"
      ]
     },
     "execution_count": 750,
     "metadata": {},
     "output_type": "execute_result"
    }
   ],
   "source": [
    "# Create a dataframe named 'D2' for top country (GBR) and funding type(venture)\n",
    "D2 = master_frame[master_frame.country_code == 'GBR']\n",
    "D2 = D2[(D2.raised_amount_usd >=5) & (D2.raised_amount_usd <=15)]\n",
    "# Create a dataframe named 'D2_values' that shows the value of sum and count based on main_sector\n",
    "D2_values = D2.groupby('Main_Sector').raised_amount_usd.agg(['count','sum']).sort_values(by= 'count',ascending = False).reset_index()\n",
    "# Create a dataframe D2 having each main_sector mapped to their sum and count values\n",
    "D2 = D2.merge(D2_values,how = 'inner',on = 'Main_Sector')\n",
    "D2_values"
   ]
  },
  {
   "cell_type": "code",
   "execution_count": 751,
   "metadata": {},
   "outputs": [
    {
     "data": {
      "text/plain": [
       "(621, 13)"
      ]
     },
     "execution_count": 751,
     "metadata": {},
     "output_type": "execute_result"
    }
   ],
   "source": [
    "# Q1. Total number of investments(count)\n",
    "D2.shape"
   ]
  },
  {
   "cell_type": "code",
   "execution_count": 752,
   "metadata": {},
   "outputs": [
    {
     "data": {
      "text/plain": [
       "5379.078691"
      ]
     },
     "execution_count": 752,
     "metadata": {},
     "output_type": "execute_result"
    }
   ],
   "source": [
    "# Q2. Total amount of investment (USD)\n",
    "D2.raised_amount_usd.sum()"
   ]
  },
  {
   "cell_type": "markdown",
   "metadata": {},
   "source": [
    "___Based on the above table we can answer the following questions about GBR:___ <br>\n",
    "__. Total Number of Investments__ <br>\n",
    "-> 621 <br><br>\n",
    "__. Total amount of investment (USD)__ <br>\n",
    "-> 5379.078691 USD <br><br>\n",
    "__. Top Sector name (no. of investment-wise)__<br>\n",
    "-> others<br><br>\n",
    "__. Second Sector name (no. of investment-wise)__<br>\n",
    "-> social, finance, analytics, advertising<br><br>\n",
    "__. Third Sector name (no. of investment-wise)__<br>\n",
    "-> cleantech / semiconductors<br><br>\n",
    "__Number of investments in top sector__<br>\n",
    "-> 147<br><br>\n",
    "__Number of investments in second sector__<br>\n",
    "-> 133<br><br>\n",
    "__Number of investments in third sector__<br>\n",
    "-> 130"
   ]
  },
  {
   "cell_type": "code",
   "execution_count": 753,
   "metadata": {},
   "outputs": [
    {
     "data": {
      "text/html": [
       "<div>\n",
       "<style scoped>\n",
       "    .dataframe tbody tr th:only-of-type {\n",
       "        vertical-align: middle;\n",
       "    }\n",
       "\n",
       "    .dataframe tbody tr th {\n",
       "        vertical-align: top;\n",
       "    }\n",
       "\n",
       "    .dataframe thead th {\n",
       "        text-align: right;\n",
       "    }\n",
       "</style>\n",
       "<table border=\"1\" class=\"dataframe\">\n",
       "  <thead>\n",
       "    <tr style=\"text-align: right;\">\n",
       "      <th></th>\n",
       "      <th>count</th>\n",
       "      <th>sum</th>\n",
       "    </tr>\n",
       "    <tr>\n",
       "      <th>company_permalink</th>\n",
       "      <th></th>\n",
       "      <th></th>\n",
       "    </tr>\n",
       "  </thead>\n",
       "  <tbody>\n",
       "    <tr>\n",
       "      <th>/organization/electric-cloud</th>\n",
       "      <td>4</td>\n",
       "      <td>37.000000</td>\n",
       "    </tr>\n",
       "    <tr>\n",
       "      <th>/organization/sensage</th>\n",
       "      <td>4</td>\n",
       "      <td>36.250000</td>\n",
       "    </tr>\n",
       "    <tr>\n",
       "      <th>/organization/enigmatic</th>\n",
       "      <td>3</td>\n",
       "      <td>32.500000</td>\n",
       "    </tr>\n",
       "    <tr>\n",
       "      <th>/organization/silverrail-technologies</th>\n",
       "      <td>3</td>\n",
       "      <td>29.000000</td>\n",
       "    </tr>\n",
       "    <tr>\n",
       "      <th>/organization/opencloud</th>\n",
       "      <td>3</td>\n",
       "      <td>27.972766</td>\n",
       "    </tr>\n",
       "  </tbody>\n",
       "</table>\n",
       "</div>"
      ],
      "text/plain": [
       "                                       count        sum\n",
       "company_permalink                                      \n",
       "/organization/electric-cloud               4  37.000000\n",
       "/organization/sensage                      4  36.250000\n",
       "/organization/enigmatic                    3  32.500000\n",
       "/organization/silverrail-technologies      3  29.000000\n",
       "/organization/opencloud                    3  27.972766"
      ]
     },
     "execution_count": 753,
     "metadata": {},
     "output_type": "execute_result"
    }
   ],
   "source": [
    "# Q9. For point 3 (top sector count-wise), which company received the highest investment?\n",
    "D2[D2.Main_Sector=='others'].groupby('company_permalink').raised_amount_usd.agg(['count','sum']).sort_values(by= 'sum',ascending = False).head()"
   ]
  },
  {
   "cell_type": "code",
   "execution_count": 778,
   "metadata": {},
   "outputs": [
    {
     "name": "stdout",
     "output_type": "stream",
     "text": [
      "['Electric Cloud']\n"
     ]
    }
   ],
   "source": [
    "# Find out the company name\n",
    "print(D2[D2.company_permalink == '/organization/electric-cloud'].name.unique())"
   ]
  },
  {
   "cell_type": "code",
   "execution_count": 776,
   "metadata": {},
   "outputs": [
    {
     "data": {
      "text/html": [
       "<div>\n",
       "<style scoped>\n",
       "    .dataframe tbody tr th:only-of-type {\n",
       "        vertical-align: middle;\n",
       "    }\n",
       "\n",
       "    .dataframe tbody tr th {\n",
       "        vertical-align: top;\n",
       "    }\n",
       "\n",
       "    .dataframe thead th {\n",
       "        text-align: right;\n",
       "    }\n",
       "</style>\n",
       "<table border=\"1\" class=\"dataframe\">\n",
       "  <thead>\n",
       "    <tr style=\"text-align: right;\">\n",
       "      <th></th>\n",
       "      <th>count</th>\n",
       "      <th>sum</th>\n",
       "    </tr>\n",
       "    <tr>\n",
       "      <th>company_permalink</th>\n",
       "      <th></th>\n",
       "      <th></th>\n",
       "    </tr>\n",
       "  </thead>\n",
       "  <tbody>\n",
       "    <tr>\n",
       "      <th>/organization/celltick-technologies</th>\n",
       "      <td>4</td>\n",
       "      <td>37.500000</td>\n",
       "    </tr>\n",
       "    <tr>\n",
       "      <th>/organization/mythings</th>\n",
       "      <td>4</td>\n",
       "      <td>34.000000</td>\n",
       "    </tr>\n",
       "    <tr>\n",
       "      <th>/organization/zopa</th>\n",
       "      <td>3</td>\n",
       "      <td>32.900000</td>\n",
       "    </tr>\n",
       "    <tr>\n",
       "      <th>/organization/imagini</th>\n",
       "      <td>3</td>\n",
       "      <td>28.550000</td>\n",
       "    </tr>\n",
       "    <tr>\n",
       "      <th>/organization/marketinvoice</th>\n",
       "      <td>3</td>\n",
       "      <td>25.553007</td>\n",
       "    </tr>\n",
       "  </tbody>\n",
       "</table>\n",
       "</div>"
      ],
      "text/plain": [
       "                                     count        sum\n",
       "company_permalink                                    \n",
       "/organization/celltick-technologies      4  37.500000\n",
       "/organization/mythings                   4  34.000000\n",
       "/organization/zopa                       3  32.900000\n",
       "/organization/imagini                    3  28.550000\n",
       "/organization/marketinvoice              3  25.553007"
      ]
     },
     "execution_count": 776,
     "metadata": {},
     "output_type": "execute_result"
    }
   ],
   "source": [
    "# Q10. For point 4 (second best sector count-wise), which company received the highest investment?\n",
    "D2[D2.Main_Sector=='social, finance, analytics, advertising'].groupby('company_permalink').raised_amount_usd.agg(['count','sum']).sort_values(by= 'sum',ascending = False).head()"
   ]
  },
  {
   "cell_type": "code",
   "execution_count": 779,
   "metadata": {},
   "outputs": [
    {
     "name": "stdout",
     "output_type": "stream",
     "text": [
      "['Celltick Technologies']\n"
     ]
    }
   ],
   "source": [
    "# Find out the company name\n",
    "print(D2[D2.company_permalink == '/organization/celltick-technologies'].name.unique())"
   ]
  },
  {
   "cell_type": "markdown",
   "metadata": {},
   "source": [
    "___Based on the above table we can answer the following questions about GBR:___ <br><br>\n",
    "__.The company which received highest investment in the top sector i.e. others__ <br>\n",
    "-> /organization/electric-cloud\t <br><br>\n",
    "__. The company which received highest investment in the second best sector i.e. social, finance, analytics, advertisings__ <br>\n",
    "-> /organization/celltick-technologies <br><br>"
   ]
  },
  {
   "cell_type": "markdown",
   "metadata": {},
   "source": [
    "## For IND \n",
    "### DataFrame 3 (D3)"
   ]
  },
  {
   "cell_type": "code",
   "execution_count": 755,
   "metadata": {},
   "outputs": [
    {
     "data": {
      "text/html": [
       "<div>\n",
       "<style scoped>\n",
       "    .dataframe tbody tr th:only-of-type {\n",
       "        vertical-align: middle;\n",
       "    }\n",
       "\n",
       "    .dataframe tbody tr th {\n",
       "        vertical-align: top;\n",
       "    }\n",
       "\n",
       "    .dataframe thead th {\n",
       "        text-align: right;\n",
       "    }\n",
       "</style>\n",
       "<table border=\"1\" class=\"dataframe\">\n",
       "  <thead>\n",
       "    <tr style=\"text-align: right;\">\n",
       "      <th></th>\n",
       "      <th>Main_Sector</th>\n",
       "      <th>count</th>\n",
       "      <th>sum</th>\n",
       "    </tr>\n",
       "  </thead>\n",
       "  <tbody>\n",
       "    <tr>\n",
       "      <th>0</th>\n",
       "      <td>others</td>\n",
       "      <td>110</td>\n",
       "      <td>1013.409507</td>\n",
       "    </tr>\n",
       "    <tr>\n",
       "      <th>1</th>\n",
       "      <td>social, finance, analytics, advertising</td>\n",
       "      <td>60</td>\n",
       "      <td>550.549550</td>\n",
       "    </tr>\n",
       "    <tr>\n",
       "      <th>2</th>\n",
       "      <td>news, search and messaging</td>\n",
       "      <td>52</td>\n",
       "      <td>433.834545</td>\n",
       "    </tr>\n",
       "    <tr>\n",
       "      <th>3</th>\n",
       "      <td>entertainment</td>\n",
       "      <td>33</td>\n",
       "      <td>280.830000</td>\n",
       "    </tr>\n",
       "    <tr>\n",
       "      <th>4</th>\n",
       "      <td>manufacturing</td>\n",
       "      <td>21</td>\n",
       "      <td>200.900000</td>\n",
       "    </tr>\n",
       "    <tr>\n",
       "      <th>5</th>\n",
       "      <td>cleantech / semiconductors</td>\n",
       "      <td>20</td>\n",
       "      <td>165.380000</td>\n",
       "    </tr>\n",
       "    <tr>\n",
       "      <th>6</th>\n",
       "      <td>health</td>\n",
       "      <td>19</td>\n",
       "      <td>167.740000</td>\n",
       "    </tr>\n",
       "    <tr>\n",
       "      <th>7</th>\n",
       "      <td>automotive &amp; sports</td>\n",
       "      <td>13</td>\n",
       "      <td>136.900000</td>\n",
       "    </tr>\n",
       "  </tbody>\n",
       "</table>\n",
       "</div>"
      ],
      "text/plain": [
       "                               Main_Sector  count          sum\n",
       "0                                   others    110  1013.409507\n",
       "1  social, finance, analytics, advertising     60   550.549550\n",
       "2               news, search and messaging     52   433.834545\n",
       "3                            entertainment     33   280.830000\n",
       "4                            manufacturing     21   200.900000\n",
       "5               cleantech / semiconductors     20   165.380000\n",
       "6                                   health     19   167.740000\n",
       "7                      automotive & sports     13   136.900000"
      ]
     },
     "execution_count": 755,
     "metadata": {},
     "output_type": "execute_result"
    }
   ],
   "source": [
    "# Create a dataframe named 'D3' for top country (IND) and funding type(venture)\n",
    "D3 = master_frame[master_frame.country_code == 'IND']\n",
    "D3 = D3[(D3.raised_amount_usd >=5) & (D3.raised_amount_usd <=15)]\n",
    "# Create a dataframe named 'D3_values' that shows the value of sum and count based on main_sector\n",
    "D3_values = D3.groupby('Main_Sector').raised_amount_usd.agg(['count','sum']).sort_values(by= 'count',ascending = False).reset_index()\n",
    "# Create a dataframe D3 having each main_sector mapped to their sum and count values\n",
    "D3 = D3.merge(D3_values,how = 'inner',on = 'Main_Sector')\n",
    "D3_values"
   ]
  },
  {
   "cell_type": "code",
   "execution_count": 756,
   "metadata": {},
   "outputs": [
    {
     "data": {
      "text/plain": [
       "(328, 13)"
      ]
     },
     "execution_count": 756,
     "metadata": {},
     "output_type": "execute_result"
    }
   ],
   "source": [
    "# Q1. Total number of investments(count)\n",
    "D3.shape"
   ]
  },
  {
   "cell_type": "code",
   "execution_count": 757,
   "metadata": {},
   "outputs": [
    {
     "data": {
      "text/plain": [
       "2949.543602"
      ]
     },
     "execution_count": 757,
     "metadata": {},
     "output_type": "execute_result"
    }
   ],
   "source": [
    "# Q2. Total amount of investment (USD)\n",
    "D3.raised_amount_usd.sum()"
   ]
  },
  {
   "cell_type": "markdown",
   "metadata": {},
   "source": [
    "___Based on the above table we can answer the following questions about IND:___ <br>\n",
    "__. Total Number of Investments__ <br>\n",
    "-> 328 <br><br>\n",
    "__. Total amount of investment (USD)__ <br>\n",
    "-> 2949.543602 Million USD <br><br>\n",
    "__. Top Sector name (no. of investment-wise)__<br>\n",
    "-> others<br><br>\n",
    "__. Second Sector name (no. of investment-wise)__<br>\n",
    "-> social, finance, analytics, advertising<br><br>\n",
    "__. Third Sector name (no. of investment-wise)__<br>\n",
    "-> news, search and messaging<br><br>\n",
    "__Number of investments in top sector__<br>\n",
    "-> 110<br><br>\n",
    "__Number of investments in second sector__<br>\n",
    "-> 60<br><br>\n",
    "__Number of investments in third sector__<br>\n",
    "-> 52"
   ]
  },
  {
   "cell_type": "code",
   "execution_count": 758,
   "metadata": {},
   "outputs": [
    {
     "data": {
      "text/html": [
       "<div>\n",
       "<style scoped>\n",
       "    .dataframe tbody tr th:only-of-type {\n",
       "        vertical-align: middle;\n",
       "    }\n",
       "\n",
       "    .dataframe tbody tr th {\n",
       "        vertical-align: top;\n",
       "    }\n",
       "\n",
       "    .dataframe thead th {\n",
       "        text-align: right;\n",
       "    }\n",
       "</style>\n",
       "<table border=\"1\" class=\"dataframe\">\n",
       "  <thead>\n",
       "    <tr style=\"text-align: right;\">\n",
       "      <th></th>\n",
       "      <th>count</th>\n",
       "      <th>sum</th>\n",
       "    </tr>\n",
       "    <tr>\n",
       "      <th>company_permalink</th>\n",
       "      <th></th>\n",
       "      <th></th>\n",
       "    </tr>\n",
       "  </thead>\n",
       "  <tbody>\n",
       "    <tr>\n",
       "      <th>/organization/firstcry-com</th>\n",
       "      <td>3</td>\n",
       "      <td>39.0</td>\n",
       "    </tr>\n",
       "    <tr>\n",
       "      <th>/organization/myntra</th>\n",
       "      <td>4</td>\n",
       "      <td>38.0</td>\n",
       "    </tr>\n",
       "    <tr>\n",
       "      <th>/organization/commonfloor</th>\n",
       "      <td>3</td>\n",
       "      <td>32.9</td>\n",
       "    </tr>\n",
       "    <tr>\n",
       "      <th>/organization/pepperfry-com</th>\n",
       "      <td>3</td>\n",
       "      <td>28.0</td>\n",
       "    </tr>\n",
       "    <tr>\n",
       "      <th>/organization/itzcash-card-ltd</th>\n",
       "      <td>2</td>\n",
       "      <td>25.0</td>\n",
       "    </tr>\n",
       "  </tbody>\n",
       "</table>\n",
       "</div>"
      ],
      "text/plain": [
       "                                count   sum\n",
       "company_permalink                          \n",
       "/organization/firstcry-com          3  39.0\n",
       "/organization/myntra                4  38.0\n",
       "/organization/commonfloor           3  32.9\n",
       "/organization/pepperfry-com         3  28.0\n",
       "/organization/itzcash-card-ltd      2  25.0"
      ]
     },
     "execution_count": 758,
     "metadata": {},
     "output_type": "execute_result"
    }
   ],
   "source": [
    "D3[D3.Main_Sector=='others'].groupby('company_permalink').raised_amount_usd.agg(['count','sum']).sort_values(by= 'sum',ascending = False).head()"
   ]
  },
  {
   "cell_type": "code",
   "execution_count": 781,
   "metadata": {},
   "outputs": [
    {
     "name": "stdout",
     "output_type": "stream",
     "text": [
      "['FirstCry.com']\n"
     ]
    }
   ],
   "source": [
    "print(D3[D3.company_permalink == '/organization/firstcry-com'].name.unique())"
   ]
  },
  {
   "cell_type": "code",
   "execution_count": 767,
   "metadata": {},
   "outputs": [
    {
     "data": {
      "text/html": [
       "<div>\n",
       "<style scoped>\n",
       "    .dataframe tbody tr th:only-of-type {\n",
       "        vertical-align: middle;\n",
       "    }\n",
       "\n",
       "    .dataframe tbody tr th {\n",
       "        vertical-align: top;\n",
       "    }\n",
       "\n",
       "    .dataframe thead th {\n",
       "        text-align: right;\n",
       "    }\n",
       "</style>\n",
       "<table border=\"1\" class=\"dataframe\">\n",
       "  <thead>\n",
       "    <tr style=\"text-align: right;\">\n",
       "      <th></th>\n",
       "      <th>count</th>\n",
       "      <th>sum</th>\n",
       "    </tr>\n",
       "    <tr>\n",
       "      <th>company_permalink</th>\n",
       "      <th></th>\n",
       "      <th></th>\n",
       "    </tr>\n",
       "  </thead>\n",
       "  <tbody>\n",
       "    <tr>\n",
       "      <th>/organization/manthan-systems</th>\n",
       "      <td>4</td>\n",
       "      <td>50.70000</td>\n",
       "    </tr>\n",
       "    <tr>\n",
       "      <th>/organization/komli-media</th>\n",
       "      <td>3</td>\n",
       "      <td>28.00000</td>\n",
       "    </tr>\n",
       "    <tr>\n",
       "      <th>/organization/shopclues-com</th>\n",
       "      <td>2</td>\n",
       "      <td>25.00000</td>\n",
       "    </tr>\n",
       "    <tr>\n",
       "      <th>/organization/intarvo</th>\n",
       "      <td>2</td>\n",
       "      <td>21.90000</td>\n",
       "    </tr>\n",
       "    <tr>\n",
       "      <th>/organization/grameen-financial-services</th>\n",
       "      <td>2</td>\n",
       "      <td>21.55605</td>\n",
       "    </tr>\n",
       "  </tbody>\n",
       "</table>\n",
       "</div>"
      ],
      "text/plain": [
       "                                          count       sum\n",
       "company_permalink                                        \n",
       "/organization/manthan-systems                 4  50.70000\n",
       "/organization/komli-media                     3  28.00000\n",
       "/organization/shopclues-com                   2  25.00000\n",
       "/organization/intarvo                         2  21.90000\n",
       "/organization/grameen-financial-services      2  21.55605"
      ]
     },
     "execution_count": 767,
     "metadata": {},
     "output_type": "execute_result"
    }
   ],
   "source": [
    "D3[D3.Main_Sector=='social, finance, analytics, advertising'].groupby('company_permalink').raised_amount_usd.agg(['count','sum']).sort_values(by= 'sum',ascending = False).head()"
   ]
  },
  {
   "cell_type": "code",
   "execution_count": 782,
   "metadata": {},
   "outputs": [
    {
     "name": "stdout",
     "output_type": "stream",
     "text": [
      "['Manthan Systems']\n"
     ]
    }
   ],
   "source": [
    "# Find out the company name\n",
    "print(D3[D3.company_permalink == '/organization/manthan-systems'].name.unique())"
   ]
  },
  {
   "cell_type": "markdown",
   "metadata": {},
   "source": [
    "___Based on the above table we can answer the following questions about IND:___ <br><br>\n",
    "__.The company which received highest investment in the top sector i.e. others__ <br>\n",
    "-> /organization/firstcry-com\t <br><br>\n",
    "__. The company which received highest investment in the second best sector i.e. news, search and messaging__ <br>\n",
    "-> /organization/manthan-systems <br><br>"
   ]
  },
  {
   "cell_type": "markdown",
   "metadata": {},
   "source": [
    "# __Plots__"
   ]
  },
  {
   "cell_type": "markdown",
   "metadata": {},
   "source": [
    "## Plot 1"
   ]
  },
  {
   "cell_type": "code",
   "execution_count": 768,
   "metadata": {},
   "outputs": [],
   "source": [
    "fraction_investments = [] # Fraction of each Investmetn type over total Investment Type \n",
    "average_amount_investments = []\n",
    "investmentTypes = ['venture','seed','angel','private_equity']\n",
    "for investtype in investmentTypes:    \n",
    "    fraction_investments.append(master_frameCopy[master_frameCopy.funding_round_type == investtype].raised_amount_usd.count()/master_frameCopy.raised_amount_usd.count())\n",
    "    average_amount_investments.append(master_frameCopy[master_frameCopy.funding_round_type == investtype].raised_amount_usd.mean())"
   ]
  },
  {
   "cell_type": "code",
   "execution_count": 761,
   "metadata": {},
   "outputs": [
    {
     "data": {
      "image/png": "[encoded data removed]",
      "text/plain": [
       "<Figure size 1008x360 with 2 Axes>"
      ]
     },
     "metadata": {
      "needs_background": "light"
     },
     "output_type": "display_data"
    }
   ],
   "source": [
    "plt.figure(figsize= (14,5))\n",
    "ax = plt.subplot(121)\n",
    "x = np.arange(0,len(investmentTypes))\n",
    "ax.bar(x, fraction_investments, width=0.5, color='r', align='center')\n",
    "plt.xticks(x,investmentTypes)\n",
    "plt.title('Fraction of Total Investments')\n",
    "plt.ylabel('Count')\n",
    "ax = plt.subplot(122)\n",
    "ax.bar(x, average_amount_investments, width=0.5, color='y', align='center')\n",
    "plt.xticks(x,investmentTypes)\n",
    "plt.title('Average Amount of Investments')\n",
    "plt.ylabel('Amount Invested in USD')\n",
    "plt.show()"
   ]
  },
  {
   "cell_type": "markdown",
   "metadata": {},
   "source": [
    "___Based on the above plots we can infer following things:___ <br><br>\n",
    "__-> Venture is the most common type of investment__ <br>\n",
    "__-> The most representative amount / the average amount of Venture type falls in the range of 5 to 15 Million USD__ <br>"
   ]
  },
  {
   "cell_type": "markdown",
   "metadata": {},
   "source": [
    "## Plot 2"
   ]
  },
  {
   "cell_type": "markdown",
   "metadata": {},
   "source": [
    "__Plot showing the top 9 countries against the total amount of investments of funding type Venture__"
   ]
  },
  {
   "cell_type": "code",
   "execution_count": 762,
   "metadata": {},
   "outputs": [
    {
     "data": {
      "text/plain": [
       "<matplotlib.axes._subplots.AxesSubplot at 0x35210630>"
      ]
     },
     "execution_count": 762,
     "metadata": {},
     "output_type": "execute_result"
    },
    {
     "data": {
      "image/png": "[encoded data removed]",
      "text/plain": [
       "<Figure size 432x288 with 1 Axes>"
      ]
     },
     "metadata": {
      "needs_background": "light"
     },
     "output_type": "display_data"
    }
   ],
   "source": [
    "# A plot showing the top 9 countries against the total amount of investments of funding type Venture. \n",
    "top9.plot.bar(title='Top 9 English Speaking Country')"
   ]
  },
  {
   "cell_type": "markdown",
   "metadata": {},
   "source": [
    "___Above plot shows USA, GBR and IND are the top three countries with highest total amount of investments___"
   ]
  },
  {
   "cell_type": "markdown",
   "metadata": {},
   "source": [
    "## Plot 3"
   ]
  },
  {
   "cell_type": "markdown",
   "metadata": {},
   "source": [
    "___Plot showing the number of investments in the top 3 sectors of the top 3 countries on one chart for the chosen investment type Venture___"
   ]
  },
  {
   "cell_type": "code",
   "execution_count": 763,
   "metadata": {},
   "outputs": [],
   "source": [
    "datadf = master_frame[(master_frame.raised_amount_usd >=5) & (master_frame.raised_amount_usd <=15)]"
   ]
  },
  {
   "cell_type": "code",
   "execution_count": 764,
   "metadata": {},
   "outputs": [
    {
     "data": {
      "text/plain": [
       "<matplotlib.axes._subplots.AxesSubplot at 0x24f17e10>"
      ]
     },
     "execution_count": 764,
     "metadata": {},
     "output_type": "execute_result"
    },
    {
     "data": {
      "image/png": "[encoded data removed]",
      "text/plain": [
       "<Figure size 432x288 with 1 Axes>"
      ]
     },
     "metadata": {
      "needs_background": "light"
     },
     "output_type": "display_data"
    }
   ],
   "source": [
    "# Number of investments in the top 3 sectors of the top 3 countries\n",
    "data = datadf.groupby(['country_code','Main_Sector'],as_index= False).raised_amount_usd.count().sort_values(by=['country_code', 'raised_amount_usd'], ascending=False).reset_index(drop = True).iloc[[0,1,2,16,17,18,8,9,10]].reset_index(drop= True).rename(columns={'raised_amount_usd': 'count_per_investment'})\n",
    "sns.barplot(x ='country_code',y = 'count_per_investment',hue = 'Main_Sector',data = data)\n"
   ]
  },
  {
   "cell_type": "code",
   "execution_count": null,
   "metadata": {},
   "outputs": [],
   "source": []
  }
 ],
 "metadata": {
  "kernelspec": {
   "display_name": "Python 3",
   "language": "python",
   "name": "python3"
  },
  "language_info": {
   "codemirror_mode": {
    "name": "ipython",
    "version": 3
   },
   "file_extension": ".py",
   "mimetype": "text/x-python",
   "name": "python",
   "nbconvert_exporter": "python",
   "pygments_lexer": "ipython3",
   "version": "3.7.3"
  }
 },
 "nbformat": 4,
 "nbformat_minor": 2
}
